{
 "cells": [
  {
   "cell_type": "markdown",
   "id": "75a4007a",
   "metadata": {},
   "source": [
    "# Quest 2 : Shark Attacks\n",
    "\n",
    "\n",
    "### Dream Team:\n",
    "\n",
    "- <em>Karina</em>\n",
    "- <em>Pollyana</em>\n",
    "- <em>Salim</em>\n",
    "- <em>Jules</em>"
   ]
  },
  {
   "cell_type": "markdown",
   "id": "6e19f72c",
   "metadata": {},
   "source": [
    "# Business\n",
    "\n",
    "\n"
   ]
  },
  {
   "cell_type": "code",
   "execution_count": null,
   "id": "68cf1e4c",
   "metadata": {},
   "outputs": [],
   "source": [
    "As an insurance company we want to analyze shark attack statistics in order to evaluate and assess the incidence rates based on various features and factors\n",
    "\n",
    "This analysis can help determine premium rates based on the likelihood of shark-related incidents. \n",
    "\n",
    "For example, we could offer coverage for medical expenses resulting from a shark attack, \n",
    "compensation for tourists who had their vacation disrupted due to beach closures caused by shark sightings,\n",
    "or coverage for businesses that depend on water sports activities."
   ]
  },
  {
   "cell_type": "code",
   "execution_count": null,
   "id": "864c19ad",
   "metadata": {},
   "outputs": [],
   "source": []
  },
  {
   "cell_type": "markdown",
   "id": "9abcf858",
   "metadata": {},
   "source": [
    "Business goal"
   ]
  },
  {
   "cell_type": "code",
   "execution_count": null,
   "id": "900607a1",
   "metadata": {},
   "outputs": [],
   "source": []
  },
  {
   "cell_type": "markdown",
   "id": "9ea55ea6",
   "metadata": {},
   "source": [
    "Hypothesis"
   ]
  },
  {
   "cell_type": "code",
   "execution_count": null,
   "id": "f71a529c",
   "metadata": {},
   "outputs": [],
   "source": [
    "The easiest way to get attacked by a shark is by <activity>\n",
    "\n",
    "Sharks attack more people in <country> than in <country> \n",
    "\n",
    "Shark attacks are more frequent during tourist seasons when there is higher human activity in the water"
   ]
  },
  {
   "cell_type": "markdown",
   "id": "61bbdbbe",
   "metadata": {},
   "source": [
    "## <font color='DarkBlue'>I. <ins>Prerequisites</ins>: <font color='blue'></font>"
   ]
  },
  {
   "cell_type": "markdown",
   "id": "ac01a9c5",
   "metadata": {},
   "source": [
    "### <font color='MediumBlue'>1 - <ins>Identifying the dataset source</ins>: <font color='violet'></font>"
   ]
  },
  {
   "cell_type": "markdown",
   "id": "73278a56",
   "metadata": {},
   "source": [
    "<ins><strong>Data Source: </strong></ins>"
   ]
  },
  {
   "cell_type": "code",
   "execution_count": 7,
   "id": "7a39f013",
   "metadata": {},
   "outputs": [],
   "source": [
    "sharks = \"GSAF5.xls\""
   ]
  },
  {
   "cell_type": "code",
   "execution_count": 8,
   "id": "2b5ee23c",
   "metadata": {},
   "outputs": [],
   "source": [
    "source = sharks"
   ]
  },
  {
   "cell_type": "markdown",
   "id": "71340419",
   "metadata": {},
   "source": [
    "### <font color='MediumBlue'>2 - <ins> Importing libraries</ins>: <font color='violet'></font>"
   ]
  },
  {
   "cell_type": "markdown",
   "id": "f4c5f882",
   "metadata": {},
   "source": [
    "<strong>pandas</strong>"
   ]
  },
  {
   "cell_type": "code",
   "execution_count": 9,
   "id": "4ff726e6",
   "metadata": {},
   "outputs": [],
   "source": [
    "import pandas as pd\n",
    "import numpy as np\n",
    "import datetime as dt"
   ]
  },
  {
   "cell_type": "markdown",
   "id": "a378af18",
   "metadata": {},
   "source": [
    "### <font color='MediumBlue'>3 - <ins>  Loading the dataset into a DataFrame</ins>: <font color='violet'></font>"
   ]
  },
  {
   "cell_type": "code",
   "execution_count": 10,
   "id": "bb45aa9d",
   "metadata": {},
   "outputs": [],
   "source": [
    "df = pd.read_excel(source)"
   ]
  },
  {
   "cell_type": "markdown",
   "id": "04b49999",
   "metadata": {},
   "source": [
    "##  <font color='DarkBlue'>II. <ins>Exploring the Dataset</ins>: <font color='blue'></font>"
   ]
  },
  {
   "cell_type": "markdown",
   "id": "0d08e31b",
   "metadata": {},
   "source": [
    "### <font color='MediumBlue'>1 - <ins> Dataset Overview</ins>: <font color='violet'></font>"
   ]
  },
  {
   "cell_type": "markdown",
   "id": "72363987",
   "metadata": {},
   "source": [
    "#### <font color='CornflowerBlue'>a) Displaying number of rows and number of columns: </font>"
   ]
  },
  {
   "cell_type": "code",
   "execution_count": 11,
   "id": "a0135a09",
   "metadata": {
    "scrolled": false
   },
   "outputs": [
    {
     "data": {
      "text/plain": [
       "(6947, 23)"
      ]
     },
     "execution_count": 11,
     "metadata": {},
     "output_type": "execute_result"
    }
   ],
   "source": [
    "df.shape"
   ]
  },
  {
   "cell_type": "markdown",
   "id": "90d02b99",
   "metadata": {},
   "source": [
    "#### <font color='CornflowerBlue'>b) Glancing at the dataset: </font>"
   ]
  },
  {
   "cell_type": "markdown",
   "id": "5079db16",
   "metadata": {},
   "source": [
    "<ins><strong>Displaying the first rows : </strong></ins>"
   ]
  },
  {
   "cell_type": "code",
   "execution_count": 12,
   "id": "17180344",
   "metadata": {},
   "outputs": [
    {
     "data": {
      "text/html": [
       "<div>\n",
       "<style scoped>\n",
       "    .dataframe tbody tr th:only-of-type {\n",
       "        vertical-align: middle;\n",
       "    }\n",
       "\n",
       "    .dataframe tbody tr th {\n",
       "        vertical-align: top;\n",
       "    }\n",
       "\n",
       "    .dataframe thead th {\n",
       "        text-align: right;\n",
       "    }\n",
       "</style>\n",
       "<table border=\"1\" class=\"dataframe\">\n",
       "  <thead>\n",
       "    <tr style=\"text-align: right;\">\n",
       "      <th></th>\n",
       "      <th>Date</th>\n",
       "      <th>Year</th>\n",
       "      <th>Type</th>\n",
       "      <th>Country</th>\n",
       "      <th>State</th>\n",
       "      <th>Location</th>\n",
       "      <th>Activity</th>\n",
       "      <th>Name</th>\n",
       "      <th>Sex</th>\n",
       "      <th>Age</th>\n",
       "      <th>...</th>\n",
       "      <th>Species</th>\n",
       "      <th>Source</th>\n",
       "      <th>pdf</th>\n",
       "      <th>href formula</th>\n",
       "      <th>href</th>\n",
       "      <th>Case Number</th>\n",
       "      <th>Case Number.1</th>\n",
       "      <th>original order</th>\n",
       "      <th>Unnamed: 21</th>\n",
       "      <th>Unnamed: 22</th>\n",
       "    </tr>\n",
       "  </thead>\n",
       "  <tbody>\n",
       "    <tr>\n",
       "      <th>0</th>\n",
       "      <td>08 Dec-2023</td>\n",
       "      <td>2023.0</td>\n",
       "      <td>Unprovoked</td>\n",
       "      <td>AUSTRALIA</td>\n",
       "      <td>Queensland</td>\n",
       "      <td>1770</td>\n",
       "      <td>Swimming</td>\n",
       "      <td>malle</td>\n",
       "      <td>20s</td>\n",
       "      <td>NaN</td>\n",
       "      <td>...</td>\n",
       "      <td>NaN</td>\n",
       "      <td>B. Myatt, GSAF</td>\n",
       "      <td>NaN</td>\n",
       "      <td>NaN</td>\n",
       "      <td>NaN</td>\n",
       "      <td>NaN</td>\n",
       "      <td>NaN</td>\n",
       "      <td>NaN</td>\n",
       "      <td>NaN</td>\n",
       "      <td>NaN</td>\n",
       "    </tr>\n",
       "    <tr>\n",
       "      <th>1</th>\n",
       "      <td>04 Dec-2023</td>\n",
       "      <td>2023.0</td>\n",
       "      <td>Unprovoked</td>\n",
       "      <td>BAHAMAS</td>\n",
       "      <td>New Providence   Isoad</td>\n",
       "      <td>Sandals Resort</td>\n",
       "      <td>Paddle boarding</td>\n",
       "      <td>Lauren Erickson Van Wart</td>\n",
       "      <td>F</td>\n",
       "      <td>44</td>\n",
       "      <td>...</td>\n",
       "      <td>NaN</td>\n",
       "      <td>NBC News, 12/4/2023</td>\n",
       "      <td>NaN</td>\n",
       "      <td>NaN</td>\n",
       "      <td>NaN</td>\n",
       "      <td>NaN</td>\n",
       "      <td>NaN</td>\n",
       "      <td>NaN</td>\n",
       "      <td>NaN</td>\n",
       "      <td>NaN</td>\n",
       "    </tr>\n",
       "    <tr>\n",
       "      <th>2</th>\n",
       "      <td>02 Dec-2023</td>\n",
       "      <td>2023.0</td>\n",
       "      <td>Unprovoked</td>\n",
       "      <td>MEXICO</td>\n",
       "      <td>Jalisco</td>\n",
       "      <td>San Patricio Melaque</td>\n",
       "      <td>Swimming</td>\n",
       "      <td>Maria Fernandez Martinez Jimenez</td>\n",
       "      <td>F</td>\n",
       "      <td>26</td>\n",
       "      <td>...</td>\n",
       "      <td>NaN</td>\n",
       "      <td>News Channel 21, 12/3.2023</td>\n",
       "      <td>NaN</td>\n",
       "      <td>NaN</td>\n",
       "      <td>NaN</td>\n",
       "      <td>NaN</td>\n",
       "      <td>NaN</td>\n",
       "      <td>NaN</td>\n",
       "      <td>NaN</td>\n",
       "      <td>NaN</td>\n",
       "    </tr>\n",
       "    <tr>\n",
       "      <th>3</th>\n",
       "      <td>30 Nov-2023</td>\n",
       "      <td>2023.0</td>\n",
       "      <td>Unprovoked</td>\n",
       "      <td>AUSTRALIA</td>\n",
       "      <td>Queensland</td>\n",
       "      <td>Clack Island</td>\n",
       "      <td>Swimming</td>\n",
       "      <td>Matthew Davitt</td>\n",
       "      <td>M</td>\n",
       "      <td>21</td>\n",
       "      <td>...</td>\n",
       "      <td>1.8m bull shark</td>\n",
       "      <td>ABC Net, 11/30/2023</td>\n",
       "      <td>NaN</td>\n",
       "      <td>NaN</td>\n",
       "      <td>NaN</td>\n",
       "      <td>NaN</td>\n",
       "      <td>NaN</td>\n",
       "      <td>NaN</td>\n",
       "      <td>NaN</td>\n",
       "      <td>NaN</td>\n",
       "    </tr>\n",
       "    <tr>\n",
       "      <th>4</th>\n",
       "      <td>21 Nov-2023</td>\n",
       "      <td>2023.0</td>\n",
       "      <td>Unprovoked</td>\n",
       "      <td>BAHAMAS</td>\n",
       "      <td>Grand  Bahama Island</td>\n",
       "      <td>Tiger Beach</td>\n",
       "      <td>Scuba diving</td>\n",
       "      <td>female</td>\n",
       "      <td>F</td>\n",
       "      <td>47</td>\n",
       "      <td>...</td>\n",
       "      <td>NaN</td>\n",
       "      <td>Eye Witness News, 11/22/2023</td>\n",
       "      <td>NaN</td>\n",
       "      <td>NaN</td>\n",
       "      <td>NaN</td>\n",
       "      <td>NaN</td>\n",
       "      <td>NaN</td>\n",
       "      <td>NaN</td>\n",
       "      <td>NaN</td>\n",
       "      <td>NaN</td>\n",
       "    </tr>\n",
       "  </tbody>\n",
       "</table>\n",
       "<p>5 rows × 23 columns</p>\n",
       "</div>"
      ],
      "text/plain": [
       "          Date    Year        Type    Country                   State  \\\n",
       "0  08 Dec-2023  2023.0  Unprovoked  AUSTRALIA              Queensland   \n",
       "1  04 Dec-2023  2023.0  Unprovoked    BAHAMAS  New Providence   Isoad   \n",
       "2  02 Dec-2023  2023.0  Unprovoked     MEXICO                 Jalisco   \n",
       "3  30 Nov-2023  2023.0  Unprovoked  AUSTRALIA              Queensland   \n",
       "4  21 Nov-2023  2023.0  Unprovoked    BAHAMAS    Grand  Bahama Island   \n",
       "\n",
       "               Location         Activity                              Name  \\\n",
       "0                 1770          Swimming                             malle   \n",
       "1        Sandals Resort  Paddle boarding          Lauren Erickson Van Wart   \n",
       "2  San Patricio Melaque         Swimming  Maria Fernandez Martinez Jimenez   \n",
       "3          Clack Island         Swimming                    Matthew Davitt   \n",
       "4           Tiger Beach     Scuba diving                            female   \n",
       "\n",
       "   Sex  Age  ...         Species                         Source  pdf  \\\n",
       "0  20s  NaN  ...              NaN                B. Myatt, GSAF  NaN   \n",
       "1    F   44  ...              NaN           NBC News, 12/4/2023  NaN   \n",
       "2    F   26  ...              NaN    News Channel 21, 12/3.2023  NaN   \n",
       "3    M   21  ...  1.8m bull shark           ABC Net, 11/30/2023  NaN   \n",
       "4    F   47  ...              NaN  Eye Witness News, 11/22/2023  NaN   \n",
       "\n",
       "  href formula href Case Number Case Number.1 original order Unnamed: 21  \\\n",
       "0          NaN  NaN         NaN           NaN            NaN         NaN   \n",
       "1          NaN  NaN         NaN           NaN            NaN         NaN   \n",
       "2          NaN  NaN         NaN           NaN            NaN         NaN   \n",
       "3          NaN  NaN         NaN           NaN            NaN         NaN   \n",
       "4          NaN  NaN         NaN           NaN            NaN         NaN   \n",
       "\n",
       "  Unnamed: 22  \n",
       "0         NaN  \n",
       "1         NaN  \n",
       "2         NaN  \n",
       "3         NaN  \n",
       "4         NaN  \n",
       "\n",
       "[5 rows x 23 columns]"
      ]
     },
     "execution_count": 12,
     "metadata": {},
     "output_type": "execute_result"
    }
   ],
   "source": [
    "df.head(5)"
   ]
  },
  {
   "cell_type": "markdown",
   "id": "399d5d23",
   "metadata": {},
   "source": [
    "<ins><strong>Displaying names and culumns type : </strong></ins>"
   ]
  },
  {
   "cell_type": "code",
   "execution_count": 13,
   "id": "fccfe13e",
   "metadata": {
    "scrolled": true
   },
   "outputs": [
    {
     "data": {
      "text/plain": [
       "Date               object\n",
       "Year              float64\n",
       "Type               object\n",
       "Country            object\n",
       "State              object\n",
       "Location           object\n",
       "Activity           object\n",
       "Name               object\n",
       "Sex                object\n",
       "Age                object\n",
       "Injury             object\n",
       "Unnamed: 11        object\n",
       "Time               object\n",
       "Species            object\n",
       "Source             object\n",
       "pdf                object\n",
       "href formula       object\n",
       "href               object\n",
       "Case Number        object\n",
       "Case Number.1      object\n",
       "original order    float64\n",
       "Unnamed: 21        object\n",
       "Unnamed: 22        object\n",
       "dtype: object"
      ]
     },
     "execution_count": 13,
     "metadata": {},
     "output_type": "execute_result"
    }
   ],
   "source": [
    "df.dtypes"
   ]
  },
  {
   "cell_type": "markdown",
   "id": "a6690d8b",
   "metadata": {},
   "source": [
    "Date               object -> datetime\n",
    "Year              float64 -> int\n",
    "Time               object -> datetime\n"
   ]
  },
  {
   "cell_type": "markdown",
   "id": "0446c044",
   "metadata": {},
   "source": [
    "<ins><strong>Displaying number of unique values for each column : </strong></ins>"
   ]
  },
  {
   "cell_type": "code",
   "execution_count": 53,
   "id": "3f80ae29",
   "metadata": {
    "scrolled": true
   },
   "outputs": [
    {
     "data": {
      "text/plain": [
       "Date              5983\n",
       "Year               258\n",
       "Type                11\n",
       "Country            224\n",
       "State              896\n",
       "Location          4495\n",
       "Activity          1585\n",
       "Name              5669\n",
       "Sex                  3\n",
       "Age                165\n",
       "Injury            4071\n",
       "Unnamed: 11         12\n",
       "Time               409\n",
       "Species           1671\n",
       "Source            5284\n",
       "pdf               6789\n",
       "href formula      6785\n",
       "href              6776\n",
       "Case Number       6777\n",
       "Case Number.1     6775\n",
       "original order    6797\n",
       "Unnamed: 21          1\n",
       "Unnamed: 22          2\n",
       "dtype: int64"
      ]
     },
     "execution_count": 53,
     "metadata": {},
     "output_type": "execute_result"
    }
   ],
   "source": [
    "df.nunique()"
   ]
  },
  {
   "cell_type": "markdown",
   "id": "ca45e287",
   "metadata": {},
   "source": [
    "<ins><strong>Displaying number of unique values for each column that has less than 10 distinct values : </strong></ins>"
   ]
  },
  {
   "cell_type": "code",
   "execution_count": 15,
   "id": "f457d999",
   "metadata": {},
   "outputs": [
    {
     "data": {
      "text/plain": [
       "Sex            9\n",
       "Unnamed: 21    1\n",
       "Unnamed: 22    2\n",
       "dtype: int64"
      ]
     },
     "execution_count": 15,
     "metadata": {},
     "output_type": "execute_result"
    }
   ],
   "source": [
    "df.nunique()[lambda x: x <= 10]"
   ]
  },
  {
   "cell_type": "markdown",
   "id": "1659ce1e",
   "metadata": {},
   "source": [
    "#### <font color='CornflowerBlue'>c) Displaying unique values for each column that has less than 10 distinct value:</font>"
   ]
  },
  {
   "cell_type": "code",
   "execution_count": 51,
   "id": "4ee6088f",
   "metadata": {},
   "outputs": [
    {
     "name": "stdout",
     "output_type": "stream",
     "text": [
      "Sex : ['unknown' 'F' 'M']\n",
      "Unnamed: 21 : [nan 'stopped here']\n",
      "Unnamed: 22 : [nan 'Teramo' 'change filename']\n"
     ]
    }
   ],
   "source": [
    "dico = {}\n",
    "for i in range(len(df.columns)):\n",
    "    if df.nunique()[i] <= 10:\n",
    "        dico[df.columns[i]] = df.nunique()[i]\n",
    "        \n",
    "for j in dico.keys():\n",
    "    print(j,\":\",df[j].unique())"
   ]
  },
  {
   "cell_type": "markdown",
   "id": "09f7e3d9",
   "metadata": {},
   "source": [
    "### <font color='MediumBlue'>2 - <ins> Identifying numerical variables and their specifications</ins>: <font color='violet'></font>"
   ]
  },
  {
   "cell_type": "markdown",
   "id": "7e6cc7ab",
   "metadata": {},
   "source": [
    "<ins><strong><font color='BlueViolet'>Numerical</font></strong> **variables specifications**:</ins>\n",
    "\n",
    "From the data types output it is safe to assume that the following columns are numerical variables: \n",
    "- **Year**: <em><font color='DarkMagenta'> float64</font></em>\n",
    "- **original order**: <em><font color='DarkMagenta'> float64</font></em>\n",
    "\n",
    "However, all remaining columns shouldn't be necessary considered as categorical variables.\n",
    "Indeed, based on the name of the following columns and their values, these are numerical variables in nature:\n",
    "\n",
    "- **Age**:<font color='red'> should be</font> <em><font color='DarkMagenta'>int</font></em>\n",
    "- **Date**:<font color='red'> should be</font><em><font color='DarkMagenta'> Date</font></em>\n",
    "- **Time**:<font color='red'> should be</font><em><font color='DarkMagenta'> Date</font></em>\n",
    "\n",
    "\n",
    "\n",
    "Additionally, here are the following actions that can be suggested to \"fix\" some of the data discrepancies:\n",
    "- Modify \"Date\" type and format\n",
    "- Change \"Year\" type to int\n",
    "- Deal with missing values such as \"Sex\"\n",
    "- Address outliers (?)"
   ]
  },
  {
   "cell_type": "markdown",
   "id": "8ba98ce9",
   "metadata": {},
   "source": [
    "#### <font color='CornflowerBlue'>a) Continuous variables: </font>"
   ]
  },
  {
   "cell_type": "code",
   "execution_count": 52,
   "id": "ebb21909",
   "metadata": {},
   "outputs": [],
   "source": [
    "cont_var = ['age', 'year'] #Age object -> int, Year  float64 -> int "
   ]
  },
  {
   "cell_type": "markdown",
   "id": "a96a0eb0",
   "metadata": {},
   "source": [
    "#### <font color='CornflowerBlue'>b) Discrete variables: </font>"
   ]
  },
  {
   "cell_type": "code",
   "execution_count": 18,
   "id": "e556d9a9",
   "metadata": {},
   "outputs": [],
   "source": [
    "disc_var = ['date','time', 'original order']     # None for this dataset, Time   object -> datetime, Date:  object -> datetime "
   ]
  },
  {
   "cell_type": "markdown",
   "id": "3f95a52f",
   "metadata": {},
   "source": [
    "#### <font color='CornflowerBlue'>c) All numerical variables: </font>"
   ]
  },
  {
   "cell_type": "code",
   "execution_count": 19,
   "id": "3a559292",
   "metadata": {},
   "outputs": [],
   "source": [
    "num_var = disc_var + cont_var"
   ]
  },
  {
   "cell_type": "markdown",
   "id": "4f026274",
   "metadata": {},
   "source": [
    "### <font color='MediumBlue'>3 - <ins> Identifying categorical variables and their specifications</ins>: <font color='violet'></font>"
   ]
  },
  {
   "cell_type": "markdown",
   "id": "45aa289c",
   "metadata": {},
   "source": [
    "<strong><font color='BlueViolet'>Categorical</font></strong> **variables specification**:\n",
    "\n",
    "- **xxx**: <ins><em><font color='DarkMagenta'>Nominal</font></em></ins>.There is no obvious order for that variable.\n",
    "- **xx**:<ins><em><font color='DarkMagenta'>Nominal</font></em></ins>.There is no obvious order for that variable.\n",
    "- **xxx**: <ins><em><font color='DarkMagenta'>Nominal</font></em></ins>. This is a boolean like variable with no particular order. \n",
    "- **xxx**: <ins><em><font color='DarkMagenta'>Nominal</font></em></ins>.This is a boolean like variable with no particular order.\n",
    "- **xxx**: <ins><em><font color='DarkMagenta'>Ordinal</font></em></ins>.Clearly, we can order the level of education, for example by ascending order.\n",
    "\n"
   ]
  },
  {
   "cell_type": "markdown",
   "id": "e7a50996",
   "metadata": {},
   "source": [
    "####  <font color='CornflowerBlue'>a) Nominal variables: </font>"
   ]
  },
  {
   "cell_type": "code",
   "execution_count": 54,
   "id": "22b1518e",
   "metadata": {},
   "outputs": [],
   "source": [
    "nom_var = ['type','country','state','location','activity','name','sex','injury','time','species','source']"
   ]
  },
  {
   "cell_type": "markdown",
   "id": "3a7cd7fc",
   "metadata": {},
   "source": [
    "#### <font color='CornflowerBlue'>b) Ordinal variables:</font>"
   ]
  },
  {
   "cell_type": "code",
   "execution_count": 21,
   "id": "5503a15a",
   "metadata": {},
   "outputs": [],
   "source": [
    "ord_var = []"
   ]
  },
  {
   "cell_type": "markdown",
   "id": "31c3e1fc",
   "metadata": {},
   "source": [
    "####  <font color='CornflowerBlue'>c) All categorical variables:</font>"
   ]
  },
  {
   "cell_type": "code",
   "execution_count": 22,
   "id": "066baa02",
   "metadata": {},
   "outputs": [],
   "source": [
    "cat_var = nom_var + ord_var"
   ]
  },
  {
   "cell_type": "markdown",
   "id": "8f5e2386",
   "metadata": {},
   "source": [
    "## <font color='DarkBlue'>III. <ins>Analysing Descriptive Statistics</ins>: <font color='blue'></font>"
   ]
  },
  {
   "cell_type": "markdown",
   "id": "c7f3a337",
   "metadata": {},
   "source": [
    "### <font color='MediumBlue'>1 - <ins> Analysing numerical variables</ins>: <font color='violet'></font>"
   ]
  },
  {
   "cell_type": "markdown",
   "id": "50cb2adc",
   "metadata": {},
   "source": [
    "#### <font color='CornflowerBlue'>a) Measuring Central Tendencies: <font color='violet'></font> "
   ]
  },
  {
   "cell_type": "markdown",
   "id": "49960a50",
   "metadata": {},
   "source": [
    "#### i) <font color='ForestGreen'>Mean</font>"
   ]
  },
  {
   "cell_type": "code",
   "execution_count": 23,
   "id": "b81689d6",
   "metadata": {},
   "outputs": [
    {
     "data": {
      "text/plain": [
       "Series([], dtype: float64)"
      ]
     },
     "execution_count": 23,
     "metadata": {},
     "output_type": "execute_result"
    }
   ],
   "source": [
    "df[num_var].mean().round(2)"
   ]
  },
  {
   "cell_type": "markdown",
   "id": "d31fc2ff",
   "metadata": {},
   "source": [
    "\n"
   ]
  },
  {
   "cell_type": "markdown",
   "id": "3d41ff09",
   "metadata": {},
   "source": [
    "#### ii)  <font color='ForestGreen'>Median</font>"
   ]
  },
  {
   "cell_type": "code",
   "execution_count": 24,
   "id": "6c19d9a5",
   "metadata": {},
   "outputs": [
    {
     "data": {
      "text/plain": [
       "Series([], dtype: float64)"
      ]
     },
     "execution_count": 24,
     "metadata": {},
     "output_type": "execute_result"
    }
   ],
   "source": [
    "df[num_var].median()"
   ]
  },
  {
   "cell_type": "markdown",
   "id": "0ce34de2",
   "metadata": {},
   "source": []
  },
  {
   "cell_type": "markdown",
   "id": "2748fd1d",
   "metadata": {},
   "source": [
    "#### iii)  <font color='ForestGreen'>Mode</font>"
   ]
  },
  {
   "cell_type": "code",
   "execution_count": 25,
   "id": "2ac59b82",
   "metadata": {},
   "outputs": [
    {
     "data": {
      "text/html": [
       "<div>\n",
       "<style scoped>\n",
       "    .dataframe tbody tr th:only-of-type {\n",
       "        vertical-align: middle;\n",
       "    }\n",
       "\n",
       "    .dataframe tbody tr th {\n",
       "        vertical-align: top;\n",
       "    }\n",
       "\n",
       "    .dataframe thead th {\n",
       "        text-align: right;\n",
       "    }\n",
       "</style>\n",
       "<table border=\"1\" class=\"dataframe\">\n",
       "  <thead>\n",
       "    <tr style=\"text-align: right;\">\n",
       "      <th></th>\n",
       "    </tr>\n",
       "  </thead>\n",
       "  <tbody>\n",
       "  </tbody>\n",
       "</table>\n",
       "</div>"
      ],
      "text/plain": [
       "Empty DataFrame\n",
       "Columns: []\n",
       "Index: []"
      ]
     },
     "execution_count": 25,
     "metadata": {},
     "output_type": "execute_result"
    }
   ],
   "source": [
    "df[num_var].mode()"
   ]
  },
  {
   "cell_type": "markdown",
   "id": "a124c056",
   "metadata": {},
   "source": []
  },
  {
   "cell_type": "markdown",
   "id": "84e38956",
   "metadata": {},
   "source": [
    "**Findings on central tendencies**\n",
    "\n",
    "Based on our calculations and interpretations of central measures, we can make the following observations:\n",
    "\n",
    " "
   ]
  },
  {
   "cell_type": "markdown",
   "id": "ffc3ddb6",
   "metadata": {},
   "source": [
    "#### <font color='CornflowerBlue'>b) Measuring Dispersion:</font> "
   ]
  },
  {
   "cell_type": "markdown",
   "id": "ba0ddce8",
   "metadata": {},
   "source": [
    "#### i) <font color='ForestGreen'>Standard Deviation</font>"
   ]
  },
  {
   "cell_type": "code",
   "execution_count": 26,
   "id": "47128da1",
   "metadata": {
    "scrolled": true
   },
   "outputs": [
    {
     "data": {
      "text/plain": [
       "Series([], dtype: float64)"
      ]
     },
     "execution_count": 26,
     "metadata": {},
     "output_type": "execute_result"
    }
   ],
   "source": [
    "df[num_var].std().round(2)"
   ]
  },
  {
   "cell_type": "markdown",
   "id": "de1a684d",
   "metadata": {},
   "source": [
    "* **xxxx**: The Standard Deviation blablabla\n",
    "\n"
   ]
  },
  {
   "cell_type": "markdown",
   "id": "6124e3d2",
   "metadata": {},
   "source": [
    "#### ii) <font color='ForestGreen'>Range</font>"
   ]
  },
  {
   "cell_type": "code",
   "execution_count": 27,
   "id": "a3af151d",
   "metadata": {},
   "outputs": [
    {
     "data": {
      "text/plain": [
       "Series([], dtype: float64)"
      ]
     },
     "execution_count": 27,
     "metadata": {},
     "output_type": "execute_result"
    }
   ],
   "source": [
    "df[num_var].max() - df[num_var].min()"
   ]
  },
  {
   "cell_type": "markdown",
   "id": "c84ad2e7",
   "metadata": {},
   "source": [
    "#### <font color='CornflowerBlue'>c)  Summarizing Statistics:</font> "
   ]
  },
  {
   "cell_type": "markdown",
   "id": "5546fb66",
   "metadata": {},
   "source": [
    "#### <font color='ForestGreen'> i) Statistics Summary: count, mean, standard deviation, min, quartiles, maximum</font>"
   ]
  },
  {
   "cell_type": "code",
   "execution_count": 28,
   "id": "7434ceea",
   "metadata": {
    "scrolled": false
   },
   "outputs": [],
   "source": [
    "#df[num_var].describe().round(2)"
   ]
  },
  {
   "cell_type": "code",
   "execution_count": 48,
   "id": "fb7e3084",
   "metadata": {},
   "outputs": [
    {
     "data": {
      "text/plain": [
       "True"
      ]
     },
     "execution_count": 48,
     "metadata": {},
     "output_type": "execute_result"
    }
   ],
   "source": [
    "#Karina - Age - inconsistent representation\n",
    "\n",
    "df['Age'].isna().any() #if there is any null values in Age column"
   ]
  },
  {
   "cell_type": "code",
   "execution_count": 49,
   "id": "b6a21d1c",
   "metadata": {
    "scrolled": true
   },
   "outputs": [
    {
     "data": {
      "text/plain": [
       "4987"
      ]
     },
     "execution_count": 49,
     "metadata": {},
     "output_type": "execute_result"
    }
   ],
   "source": [
    "df['Age'].isna().sum() #number of null values"
   ]
  },
  {
   "cell_type": "code",
   "execution_count": 50,
   "id": "2296e9fa",
   "metadata": {
    "scrolled": false
   },
   "outputs": [
    {
     "name": "stdout",
     "output_type": "stream",
     "text": [
      "[nan '44' '26' '21' '47' '32' '66' '55' '30' '59' '8' '50' '52' '45' '64'\n",
      " '34' '38' '30s' '37' '9' '19' '20/30' '35' '65' '22' '20s' '77' '60' '49'\n",
      " '42' '15' '!2' '24' '73' '25' '18' '20' '46' '13' '50s' '39' '11' '58'\n",
      " '67' '10' '14' '6' '41' '16' '53' '68' '43' '29' '40' '51' '17' '31'\n",
      " '40s' 'teen' 'Teen' 'M' '!6' '!!' '45 and 15' '28 & 22' '22, 57, 31'\n",
      " '60s' \"20's\" '9 & 60' 'a minor' '23' '12' '36' '63' '71' '48' '70'\n",
      " '18 months' '57' '7' '28' '33' '61' '74' '27' '3' '56' '28 & 26' '62' '5'\n",
      " '54' '86' '18 or 20' '12 or 13' '46 & 34' '28, 23 & 30' 'Teens' '36 & 26'\n",
      " '8 or 10' '\\xa0 ' ' ' '30 or 36' '6½' '21 & ?' '33 or 37' 'mid-30s'\n",
      " '23 & 20' ' 30' '7      &    31' ' 28' '20?' \"60's\" '69' '32 & 30'\n",
      " '16 to 18' '87' 'Elderly' 'mid-20s' 'Ca. 33' '74 ' '45 ' '21 or 26' '20 '\n",
      " '>50' '18 to 22' 'adult' '9 & 12' '? & 19' '9 months' '25 to 35'\n",
      " '23 & 26' '(adult)' '33 & 37' '25 or 28' '37, 67, 35, 27,  ? & 27'\n",
      " '21, 34,24 & 35' '30 & 32' '50 & 30' '17 & 35' 'X' '\"middle-age\"'\n",
      " '13 or 18' '34 & 19' '33 & 26' '2 to 3 months' '4' 'MAKE LINE GREEN'\n",
      " ' 43' '81' '\"young\"' '7 or 8' '17 & 16' 'F' 'Both 11' '9 or 10' 'young'\n",
      " '36 & 23' '  ' '78' 'A.M.' '?    &   14' '10 or 12' '31 or 33' '2½' '1'\n",
      " '13 or 14']\n"
     ]
    }
   ],
   "source": [
    "print(df['Age'].unique()) #check unique values"
   ]
  },
  {
   "cell_type": "code",
   "execution_count": 33,
   "id": "88dd2486",
   "metadata": {
    "scrolled": true
   },
   "outputs": [
    {
     "name": "stdout",
     "output_type": "stream",
     "text": [
      "[nan '44' '26' '21' '47' '32' '66' '55' '30' '59' '8' '50' '52' '45' '64'\n",
      " '34' '38' '30s' '37' '9' '19' '20/30' '35' '65' '22' '20s' '77' '60' '49'\n",
      " '42' '15' '!2' '24' '73' '25' '18' '20' '46' '13' '50s' '39' '11' '58'\n",
      " '67' '10' '14' '6' '41' '16' '53' '68' '43' '29' '40' '51' '17' '31'\n",
      " '40s' 'teen' 'Teen' 'M' '!6' '!!' '45 and 15' '28 & 22' '22, 57, 31'\n",
      " '60s' \"20's\" '9 & 60' 'a minor' '23' '12' '36' '63' '71' '48' '70'\n",
      " '18 months' '57' '7' '28' '33' '61' '74' '27' '3' '56' '28 & 26' '62' '5'\n",
      " '54' '86' '18 or 20' '12 or 13' '46 & 34' '28, 23 & 30' 'Teens' '36 & 26'\n",
      " '8 or 10' '\\xa0 ' ' ' '30 or 36' '6½' '21 & ?' '33 or 37' 'mid-30s'\n",
      " '23 & 20' ' 30' '7      &    31' ' 28' '20?' \"60's\" '69' '32 & 30'\n",
      " '16 to 18' '87' 'Elderly' 'mid-20s' 'Ca. 33' '74 ' '45 ' '21 or 26' '20 '\n",
      " '>50' '18 to 22' 'adult' '9 & 12' '? & 19' '9 months' '25 to 35'\n",
      " '23 & 26' '(adult)' '33 & 37' '25 or 28' '37, 67, 35, 27,  ? & 27'\n",
      " '21, 34,24 & 35' '30 & 32' '50 & 30' '17 & 35' 'X' '\"middle-age\"'\n",
      " '13 or 18' '34 & 19' '33 & 26' '2 to 3 months' '4' 'MAKE LINE GREEN'\n",
      " ' 43' '81' '\"young\"' '7 or 8' '17 & 16' 'F' 'Both 11' '9 or 10' 'young'\n",
      " '36 & 23' '  ' '78' 'A.M.' '?    &   14' '10 or 12' '31 or 33' '2½' '1'\n",
      " '13 or 14']\n"
     ]
    }
   ],
   "source": [
    "pattern = r'[^0-9.]'\n",
    "df['Age'] = df['Age'].str.replace(pattern, '')\n",
    "print(df['Age'].unique())"
   ]
  },
  {
   "cell_type": "code",
   "execution_count": 35,
   "id": "b90d54a5",
   "metadata": {},
   "outputs": [],
   "source": [
    "#We have 4987 NaN values out of a total of 6923 rows in the 'Age' column, it indicates that a significant portion\n",
    "#of the data is missing and "
   ]
  },
  {
   "cell_type": "markdown",
   "id": "69f3a62a",
   "metadata": {},
   "source": [
    "### <font color='MediumBlue'>2 - <ins> Analysing categorical variables</ins>: <font color='violet'></font>"
   ]
  },
  {
   "cell_type": "markdown",
   "id": "4ac644e5",
   "metadata": {},
   "source": [
    "#### <font color='CornflowerBlue'>a) Measuring Frequency: </font>"
   ]
  },
  {
   "cell_type": "markdown",
   "id": "8af68dd1",
   "metadata": {},
   "source": [
    "#### <font color='ForestGreen'> i) frequency in counts</font>"
   ]
  },
  {
   "cell_type": "code",
   "execution_count": 36,
   "id": "37e08e74",
   "metadata": {},
   "outputs": [],
   "source": [
    "for k in cat_var:\n",
    "    print(f\"{df[k].value_counts()} \\n\")    "
   ]
  },
  {
   "cell_type": "markdown",
   "id": "e89e6503",
   "metadata": {},
   "source": [
    "#### <font color='ForestGreen'> ii) frequency in percentages</font>"
   ]
  },
  {
   "cell_type": "code",
   "execution_count": 37,
   "id": "b3ad75e4",
   "metadata": {},
   "outputs": [],
   "source": [
    "for k in cat_var:\n",
    "    percentage = (df[k].value_counts() / df.shape[0]) * 100\n",
    "    print(f\"{percentage} \\n \")"
   ]
  },
  {
   "cell_type": "code",
   "execution_count": 38,
   "id": "c0610cf5",
   "metadata": {},
   "outputs": [
    {
     "data": {
      "text/plain": [
       "array(['20s', 'F', 'M', nan, ' M', 'M ', 'lli', 'M x 2', 'N', '.'],\n",
       "      dtype=object)"
      ]
     },
     "execution_count": 38,
     "metadata": {},
     "output_type": "execute_result"
    }
   ],
   "source": [
    "df[\"Sex\"].unique()"
   ]
  },
  {
   "cell_type": "code",
   "execution_count": 39,
   "id": "dd3b6383",
   "metadata": {},
   "outputs": [],
   "source": [
    "df[\"Sex\"] = df[\"Sex\"].str.replace(\" \", \"\").str.replace(\"Mx2\", \"M\")"
   ]
  },
  {
   "cell_type": "code",
   "execution_count": 40,
   "id": "d99acae3",
   "metadata": {},
   "outputs": [],
   "source": [
    "df[\"Sex\"] = df[\"Sex\"].apply(lambda x: x if (x =='F' or  x =='M') else \"unknown\")"
   ]
  },
  {
   "cell_type": "code",
   "execution_count": 41,
   "id": "825fb606",
   "metadata": {},
   "outputs": [
    {
     "data": {
      "text/plain": [
       "array(['unknown', 'F', 'M'], dtype=object)"
      ]
     },
     "execution_count": 41,
     "metadata": {},
     "output_type": "execute_result"
    }
   ],
   "source": [
    "df[\"Sex\"].unique()"
   ]
  },
  {
   "cell_type": "markdown",
   "id": "5f1c684a",
   "metadata": {},
   "source": [
    "df.nunique()[lambda x: x <= 10]"
   ]
  },
  {
   "cell_type": "code",
   "execution_count": 42,
   "id": "86400d4c",
   "metadata": {},
   "outputs": [
    {
     "data": {
      "text/plain": [
       "24"
      ]
     },
     "execution_count": 42,
     "metadata": {},
     "output_type": "execute_result"
    }
   ],
   "source": [
    "#Karina - duplicates\n",
    "\n",
    "df.duplicated().sum()"
   ]
  },
  {
   "cell_type": "code",
   "execution_count": 43,
   "id": "ce5e30a8",
   "metadata": {
    "scrolled": true
   },
   "outputs": [
    {
     "name": "stdout",
     "output_type": "stream",
     "text": [
      "     Date  Year Type Country State Location Activity Name      Sex  Age  ...  \\\n",
      "6922  NaN   NaN  NaN     NaN   NaN      NaN      NaN  NaN  unknown  NaN  ...   \n",
      "6923  NaN   NaN  NaN     NaN   NaN      NaN      NaN  NaN  unknown  NaN  ...   \n",
      "6924  NaN   NaN  NaN     NaN   NaN      NaN      NaN  NaN  unknown  NaN  ...   \n",
      "6925  NaN   NaN  NaN     NaN   NaN      NaN      NaN  NaN  unknown  NaN  ...   \n",
      "6926  NaN   NaN  NaN     NaN   NaN      NaN      NaN  NaN  unknown  NaN  ...   \n",
      "6927  NaN   NaN  NaN     NaN   NaN      NaN      NaN  NaN  unknown  NaN  ...   \n",
      "6928  NaN   NaN  NaN     NaN   NaN      NaN      NaN  NaN  unknown  NaN  ...   \n",
      "6929  NaN   NaN  NaN     NaN   NaN      NaN      NaN  NaN  unknown  NaN  ...   \n",
      "6930  NaN   NaN  NaN     NaN   NaN      NaN      NaN  NaN  unknown  NaN  ...   \n",
      "6931  NaN   NaN  NaN     NaN   NaN      NaN      NaN  NaN  unknown  NaN  ...   \n",
      "6932  NaN   NaN  NaN     NaN   NaN      NaN      NaN  NaN  unknown  NaN  ...   \n",
      "6933  NaN   NaN  NaN     NaN   NaN      NaN      NaN  NaN  unknown  NaN  ...   \n",
      "6934  NaN   NaN  NaN     NaN   NaN      NaN      NaN  NaN  unknown  NaN  ...   \n",
      "6935  NaN   NaN  NaN     NaN   NaN      NaN      NaN  NaN  unknown  NaN  ...   \n",
      "6936  NaN   NaN  NaN     NaN   NaN      NaN      NaN  NaN  unknown  NaN  ...   \n",
      "6937  NaN   NaN  NaN     NaN   NaN      NaN      NaN  NaN  unknown  NaN  ...   \n",
      "6938  NaN   NaN  NaN     NaN   NaN      NaN      NaN  NaN  unknown  NaN  ...   \n",
      "6939  NaN   NaN  NaN     NaN   NaN      NaN      NaN  NaN  unknown  NaN  ...   \n",
      "6940  NaN   NaN  NaN     NaN   NaN      NaN      NaN  NaN  unknown  NaN  ...   \n",
      "6941  NaN   NaN  NaN     NaN   NaN      NaN      NaN  NaN  unknown  NaN  ...   \n",
      "6942  NaN   NaN  NaN     NaN   NaN      NaN      NaN  NaN  unknown  NaN  ...   \n",
      "6943  NaN   NaN  NaN     NaN   NaN      NaN      NaN  NaN  unknown  NaN  ...   \n",
      "6944  NaN   NaN  NaN     NaN   NaN      NaN      NaN  NaN  unknown  NaN  ...   \n",
      "6945  NaN   NaN  NaN     NaN   NaN      NaN      NaN  NaN  unknown  NaN  ...   \n",
      "6946  NaN   NaN  NaN     NaN   NaN      NaN      NaN  NaN  unknown  NaN  ...   \n",
      "\n",
      "     Species  Source  pdf                                       href formula  \\\n",
      "6922      NaN    NaN  NaN  http://sharkattackfile.net/spreadsheets/pdf_di...   \n",
      "6923      NaN    NaN  NaN  http://sharkattackfile.net/spreadsheets/pdf_di...   \n",
      "6924      NaN    NaN  NaN  http://sharkattackfile.net/spreadsheets/pdf_di...   \n",
      "6925      NaN    NaN  NaN  http://sharkattackfile.net/spreadsheets/pdf_di...   \n",
      "6926      NaN    NaN  NaN  http://sharkattackfile.net/spreadsheets/pdf_di...   \n",
      "6927      NaN    NaN  NaN  http://sharkattackfile.net/spreadsheets/pdf_di...   \n",
      "6928      NaN    NaN  NaN  http://sharkattackfile.net/spreadsheets/pdf_di...   \n",
      "6929      NaN    NaN  NaN  http://sharkattackfile.net/spreadsheets/pdf_di...   \n",
      "6930      NaN    NaN  NaN  http://sharkattackfile.net/spreadsheets/pdf_di...   \n",
      "6931      NaN    NaN  NaN  http://sharkattackfile.net/spreadsheets/pdf_di...   \n",
      "6932      NaN    NaN  NaN  http://sharkattackfile.net/spreadsheets/pdf_di...   \n",
      "6933      NaN    NaN  NaN  http://sharkattackfile.net/spreadsheets/pdf_di...   \n",
      "6934      NaN    NaN  NaN  http://sharkattackfile.net/spreadsheets/pdf_di...   \n",
      "6935      NaN    NaN  NaN  http://sharkattackfile.net/spreadsheets/pdf_di...   \n",
      "6936      NaN    NaN  NaN  http://sharkattackfile.net/spreadsheets/pdf_di...   \n",
      "6937      NaN    NaN  NaN  http://sharkattackfile.net/spreadsheets/pdf_di...   \n",
      "6938      NaN    NaN  NaN  http://sharkattackfile.net/spreadsheets/pdf_di...   \n",
      "6939      NaN    NaN  NaN  http://sharkattackfile.net/spreadsheets/pdf_di...   \n",
      "6940      NaN    NaN  NaN  http://sharkattackfile.net/spreadsheets/pdf_di...   \n",
      "6941      NaN    NaN  NaN  http://sharkattackfile.net/spreadsheets/pdf_di...   \n",
      "6942      NaN    NaN  NaN  http://sharkattackfile.net/spreadsheets/pdf_di...   \n",
      "6943      NaN    NaN  NaN  http://sharkattackfile.net/spreadsheets/pdf_di...   \n",
      "6944      NaN    NaN  NaN  http://sharkattackfile.net/spreadsheets/pdf_di...   \n",
      "6945      NaN    NaN  NaN  http://sharkattackfile.net/spreadsheets/pdf_di...   \n",
      "6946      NaN    NaN  NaN  http://sharkattackfile.net/spreadsheets/pdf_di...   \n",
      "\n",
      "     href Case Number Case Number.1 original order Unnamed: 21 Unnamed: 22  \n",
      "6922  NaN         NaN           NaN            NaN         NaN         NaN  \n",
      "6923  NaN         NaN           NaN            NaN         NaN         NaN  \n",
      "6924  NaN         NaN           NaN            NaN         NaN         NaN  \n",
      "6925  NaN         NaN           NaN            NaN         NaN         NaN  \n",
      "6926  NaN         NaN           NaN            NaN         NaN         NaN  \n",
      "6927  NaN         NaN           NaN            NaN         NaN         NaN  \n",
      "6928  NaN         NaN           NaN            NaN         NaN         NaN  \n",
      "6929  NaN         NaN           NaN            NaN         NaN         NaN  \n",
      "6930  NaN         NaN           NaN            NaN         NaN         NaN  \n",
      "6931  NaN         NaN           NaN            NaN         NaN         NaN  \n",
      "6932  NaN         NaN           NaN            NaN         NaN         NaN  \n",
      "6933  NaN         NaN           NaN            NaN         NaN         NaN  \n",
      "6934  NaN         NaN           NaN            NaN         NaN         NaN  \n",
      "6935  NaN         NaN           NaN            NaN         NaN         NaN  \n",
      "6936  NaN         NaN           NaN            NaN         NaN         NaN  \n",
      "6937  NaN         NaN           NaN            NaN         NaN         NaN  \n",
      "6938  NaN         NaN           NaN            NaN         NaN         NaN  \n",
      "6939  NaN         NaN           NaN            NaN         NaN         NaN  \n",
      "6940  NaN         NaN           NaN            NaN         NaN         NaN  \n",
      "6941  NaN         NaN           NaN            NaN         NaN         NaN  \n",
      "6942  NaN         NaN           NaN            NaN         NaN         NaN  \n",
      "6943  NaN         NaN           NaN            NaN         NaN         NaN  \n",
      "6944  NaN         NaN           NaN            NaN         NaN         NaN  \n",
      "6945  NaN         NaN           NaN            NaN         NaN         NaN  \n",
      "6946  NaN         NaN           NaN            NaN         NaN         NaN  \n",
      "\n",
      "[25 rows x 23 columns]\n"
     ]
    }
   ],
   "source": [
    "duplicate_rows = df[df.duplicated(keep=False)]\n",
    "print(duplicate_rows)"
   ]
  },
  {
   "cell_type": "code",
   "execution_count": 44,
   "id": "01c94f8b",
   "metadata": {},
   "outputs": [
    {
     "data": {
      "text/plain": [
       "(6923, 23)"
      ]
     },
     "execution_count": 44,
     "metadata": {},
     "output_type": "execute_result"
    }
   ],
   "source": [
    "#we have 25 NaA rows out of 6947, so it could be considered as safe to drop them - needs verification\n",
    "\n",
    "df.drop_duplicates(inplace=True)\n",
    "df.shape"
   ]
  },
  {
   "cell_type": "code",
   "execution_count": 45,
   "id": "fc32a2f8",
   "metadata": {
    "scrolled": true
   },
   "outputs": [
    {
     "data": {
      "text/plain": [
       "Date                 1\n",
       "Year                 3\n",
       "Type                19\n",
       "Country             51\n",
       "State              482\n",
       "Location           565\n",
       "Activity           586\n",
       "Name               220\n",
       "Sex                  0\n",
       "Age               4987\n",
       "Injury              36\n",
       "Unnamed: 11        562\n",
       "Time              3523\n",
       "Species           3129\n",
       "Source              20\n",
       "pdf                124\n",
       "href formula       128\n",
       "href               127\n",
       "Case Number        125\n",
       "Case Number.1      126\n",
       "original order     124\n",
       "Unnamed: 21       6922\n",
       "Unnamed: 22       6921\n",
       "dtype: int64"
      ]
     },
     "execution_count": 45,
     "metadata": {},
     "output_type": "execute_result"
    }
   ],
   "source": [
    "#Karina - Null values (Unnamed: 21, Unnamed: 22 - removed)\n",
    "df.isna().sum()"
   ]
  }
 ],
 "metadata": {
  "kernelspec": {
   "display_name": "Python 3 (ipykernel)",
   "language": "python",
   "name": "python3"
  },
  "language_info": {
   "codemirror_mode": {
    "name": "ipython",
    "version": 3
   },
   "file_extension": ".py",
   "mimetype": "text/x-python",
   "name": "python",
   "nbconvert_exporter": "python",
   "pygments_lexer": "ipython3",
   "version": "3.11.5"
  }
 },
 "nbformat": 4,
 "nbformat_minor": 5
}
