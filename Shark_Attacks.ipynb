{
 "cells": [
  {
   "cell_type": "markdown",
   "metadata": {},
   "source": [
    "# Quest 2 : Shark Attacks\n",
    "\n",
    "\n",
    "### Dream Team:\n",
    "\n",
    "- <em>Karina</em>\n",
    "- <em>Pollyana</em>\n",
    "- <em>Salim</em>\n",
    "- <em>Jules</em>"
   ]
  },
  {
   "cell_type": "markdown",
   "metadata": {},
   "source": [
    "# Introduction\n",
    "\n",
    "As an insurance company we want to analyze shark attack statistics in order to evaluate and assess the incidence rates based on various features and factors\n",
    "\n",
    "This analysis can help determine premium rates based on the likelihood of shark-related incidents.\n",
    "\n"
   ]
  },
  {
   "cell_type": "markdown",
   "metadata": {},
   "source": [
    "Business goal\n",
    "\n"
   ]
  },
  {
   "cell_type": "markdown",
   "metadata": {},
   "source": [
    "Develop a fair method to determine insurance rates for shark attack coverage using data from shark attack incidents"
   ]
  },
  {
   "cell_type": "markdown",
   "metadata": {},
   "source": [
    "Hypothesis\n",
    "\n",
    "The easiest way to get attacked by a shark is by certain type of activity\n",
    "\n",
    "Shark attacks occur more frequently in certain countries\n",
    "\n",
    "The severity of injuries during a shark attack is positively correlated with higher insurance rates"
   ]
  },
  {
   "cell_type": "markdown",
   "metadata": {},
   "source": [
    "## <font color='DarkBlue'>I. <ins>Prerequisites</ins>: <font color='blue'></font>"
   ]
  },
  {
   "cell_type": "markdown",
   "metadata": {},
   "source": [
    "### <font color='MediumBlue'>1 - <ins>Identifying the dataset source</ins>: <font color='violet'></font>"
   ]
  },
  {
   "cell_type": "markdown",
   "metadata": {},
   "source": [
    "<ins><strong>Data Source: </strong></ins>"
   ]
  },
  {
   "cell_type": "code",
   "execution_count": 1,
   "metadata": {},
   "outputs": [],
   "source": [
    "sharks = \"GSAF5.xls\""
   ]
  },
  {
   "cell_type": "code",
   "execution_count": 2,
   "metadata": {},
   "outputs": [],
   "source": [
    "source = sharks"
   ]
  },
  {
   "cell_type": "markdown",
   "metadata": {},
   "source": [
    "### <font color='MediumBlue'>2 - <ins> Importing libraries</ins>: <font color='violet'></font>"
   ]
  },
  {
   "cell_type": "markdown",
   "metadata": {},
   "source": [
    "<strong>pandas</strong>"
   ]
  },
  {
   "cell_type": "code",
   "execution_count": 3,
   "metadata": {},
   "outputs": [],
   "source": [
    "import pandas as pd\n",
    "import numpy as np\n",
    "import datetime as dt"
   ]
  },
  {
   "cell_type": "markdown",
   "metadata": {},
   "source": [
    "### <font color='MediumBlue'>3 - <ins>  Loading the dataset into a DataFrame</ins>: <font color='violet'></font>"
   ]
  },
  {
   "cell_type": "code",
   "execution_count": 4,
   "metadata": {},
   "outputs": [],
   "source": [
    "df = pd.read_excel(source)"
   ]
  },
  {
   "cell_type": "markdown",
   "metadata": {},
   "source": [
    "##  <font color='DarkBlue'>II. <ins>Exploring the Dataset</ins>: <font color='blue'></font>"
   ]
  },
  {
   "cell_type": "markdown",
   "metadata": {},
   "source": [
    "### <font color='MediumBlue'>1 - <ins> Dataset Overview</ins>: <font color='violet'></font>"
   ]
  },
  {
   "cell_type": "markdown",
   "metadata": {},
   "source": [
    "#### <font color='CornflowerBlue'>a) Displaying number of rows and number of columns: </font>"
   ]
  },
  {
   "cell_type": "code",
   "execution_count": 5,
   "metadata": {
    "scrolled": false
   },
   "outputs": [
    {
     "data": {
      "text/plain": [
       "(6947, 23)"
      ]
     },
     "execution_count": 5,
     "metadata": {},
     "output_type": "execute_result"
    }
   ],
   "source": [
    "df.shape"
   ]
  },
  {
   "cell_type": "markdown",
   "metadata": {},
   "source": [
    "#### <font color='CornflowerBlue'>b) Glancing at the dataset: </font>"
   ]
  },
  {
   "cell_type": "markdown",
   "metadata": {},
   "source": [
    "<ins><strong>Displaying the first rows : </strong></ins>"
   ]
  },
  {
   "cell_type": "code",
   "execution_count": 6,
   "metadata": {},
   "outputs": [
    {
     "data": {
      "text/html": [
       "<div>\n",
       "<style scoped>\n",
       "    .dataframe tbody tr th:only-of-type {\n",
       "        vertical-align: middle;\n",
       "    }\n",
       "\n",
       "    .dataframe tbody tr th {\n",
       "        vertical-align: top;\n",
       "    }\n",
       "\n",
       "    .dataframe thead th {\n",
       "        text-align: right;\n",
       "    }\n",
       "</style>\n",
       "<table border=\"1\" class=\"dataframe\">\n",
       "  <thead>\n",
       "    <tr style=\"text-align: right;\">\n",
       "      <th></th>\n",
       "      <th>Date</th>\n",
       "      <th>Year</th>\n",
       "      <th>Type</th>\n",
       "      <th>Country</th>\n",
       "      <th>State</th>\n",
       "      <th>Location</th>\n",
       "      <th>Activity</th>\n",
       "      <th>Name</th>\n",
       "      <th>Sex</th>\n",
       "      <th>Age</th>\n",
       "      <th>...</th>\n",
       "      <th>Species</th>\n",
       "      <th>Source</th>\n",
       "      <th>pdf</th>\n",
       "      <th>href formula</th>\n",
       "      <th>href</th>\n",
       "      <th>Case Number</th>\n",
       "      <th>Case Number.1</th>\n",
       "      <th>original order</th>\n",
       "      <th>Unnamed: 21</th>\n",
       "      <th>Unnamed: 22</th>\n",
       "    </tr>\n",
       "  </thead>\n",
       "  <tbody>\n",
       "    <tr>\n",
       "      <th>0</th>\n",
       "      <td>08 Dec-2023</td>\n",
       "      <td>2023.0</td>\n",
       "      <td>Unprovoked</td>\n",
       "      <td>AUSTRALIA</td>\n",
       "      <td>Queensland</td>\n",
       "      <td>1770</td>\n",
       "      <td>Swimming</td>\n",
       "      <td>malle</td>\n",
       "      <td>20s</td>\n",
       "      <td>NaN</td>\n",
       "      <td>...</td>\n",
       "      <td>NaN</td>\n",
       "      <td>B. Myatt, GSAF</td>\n",
       "      <td>NaN</td>\n",
       "      <td>NaN</td>\n",
       "      <td>NaN</td>\n",
       "      <td>NaN</td>\n",
       "      <td>NaN</td>\n",
       "      <td>NaN</td>\n",
       "      <td>NaN</td>\n",
       "      <td>NaN</td>\n",
       "    </tr>\n",
       "    <tr>\n",
       "      <th>1</th>\n",
       "      <td>04 Dec-2023</td>\n",
       "      <td>2023.0</td>\n",
       "      <td>Unprovoked</td>\n",
       "      <td>BAHAMAS</td>\n",
       "      <td>New Providence   Isoad</td>\n",
       "      <td>Sandals Resort</td>\n",
       "      <td>Paddle boarding</td>\n",
       "      <td>Lauren Erickson Van Wart</td>\n",
       "      <td>F</td>\n",
       "      <td>44</td>\n",
       "      <td>...</td>\n",
       "      <td>NaN</td>\n",
       "      <td>NBC News, 12/4/2023</td>\n",
       "      <td>NaN</td>\n",
       "      <td>NaN</td>\n",
       "      <td>NaN</td>\n",
       "      <td>NaN</td>\n",
       "      <td>NaN</td>\n",
       "      <td>NaN</td>\n",
       "      <td>NaN</td>\n",
       "      <td>NaN</td>\n",
       "    </tr>\n",
       "  </tbody>\n",
       "</table>\n",
       "<p>2 rows × 23 columns</p>\n",
       "</div>"
      ],
      "text/plain": [
       "          Date    Year        Type    Country                   State  \\\n",
       "0  08 Dec-2023  2023.0  Unprovoked  AUSTRALIA              Queensland   \n",
       "1  04 Dec-2023  2023.0  Unprovoked    BAHAMAS  New Providence   Isoad   \n",
       "\n",
       "         Location         Activity                      Name  Sex  Age  ...  \\\n",
       "0           1770          Swimming                     malle  20s  NaN  ...   \n",
       "1  Sandals Resort  Paddle boarding  Lauren Erickson Van Wart    F   44  ...   \n",
       "\n",
       "  Species                Source  pdf href formula href Case Number  \\\n",
       "0      NaN       B. Myatt, GSAF  NaN          NaN  NaN         NaN   \n",
       "1      NaN  NBC News, 12/4/2023  NaN          NaN  NaN         NaN   \n",
       "\n",
       "  Case Number.1 original order Unnamed: 21 Unnamed: 22  \n",
       "0           NaN            NaN         NaN         NaN  \n",
       "1           NaN            NaN         NaN         NaN  \n",
       "\n",
       "[2 rows x 23 columns]"
      ]
     },
     "execution_count": 6,
     "metadata": {},
     "output_type": "execute_result"
    }
   ],
   "source": [
    "df.head(2)"
   ]
  },
  {
   "cell_type": "code",
   "execution_count": 7,
   "metadata": {},
   "outputs": [],
   "source": [
    "# Importing a module for missing values visualization\n",
    "import missingno as msno"
   ]
  },
  {
   "cell_type": "code",
   "execution_count": 8,
   "metadata": {},
   "outputs": [
    {
     "data": {
      "text/plain": [
       "<matplotlib.axes._subplots.AxesSubplot at 0x7f91c2e029d0>"
      ]
     },
     "execution_count": 8,
     "metadata": {},
     "output_type": "execute_result"
    },
    {
     "data": {
      "image/png": "[encoded data removed]",
      "text/plain": [
       "<Figure size 1728x720 with 3 Axes>"
      ]
     },
     "metadata": {
      "needs_background": "light"
     },
     "output_type": "display_data"
    }
   ],
   "source": [
    "# Visualize the number of missing. values as a bar chart\n",
    "msno.bar(df) "
   ]
  },
  {
   "cell_type": "code",
   "execution_count": 9,
   "metadata": {},
   "outputs": [
    {
     "data": {
      "text/plain": [
       "Date               0.359868\n",
       "Year               0.388657\n",
       "Type               0.618972\n",
       "Country            1.079603\n",
       "State              7.283720\n",
       "Location           8.478480\n",
       "Activity           8.780769\n",
       "Name               3.512307\n",
       "Sex                8.694400\n",
       "Age               43.414423\n",
       "Injury             0.863682\n",
       "Unnamed: 11        8.435296\n",
       "Time              51.058011\n",
       "Species           45.386498\n",
       "Source             0.633367\n",
       "pdf                2.130416\n",
       "href formula       1.842522\n",
       "href               2.173600\n",
       "Case Number        2.144811\n",
       "Case Number.1      2.159205\n",
       "original order     2.130416\n",
       "Unnamed: 21       99.985605\n",
       "Unnamed: 22       99.971211\n",
       "dtype: float64"
      ]
     },
     "execution_count": 9,
     "metadata": {},
     "output_type": "execute_result"
    }
   ],
   "source": [
    "# pourcentage of missing values for each column\n",
    "df.isna().sum()/df.shape[0]*100"
   ]
  },
  {
   "cell_type": "code",
   "execution_count": 10,
   "metadata": {},
   "outputs": [
    {
     "data": {
      "text/plain": [
       "Date                25\n",
       "Year                27\n",
       "Type                43\n",
       "Country             75\n",
       "State              506\n",
       "Location           589\n",
       "Activity           610\n",
       "Name               244\n",
       "Sex                604\n",
       "Age               3016\n",
       "Injury              60\n",
       "Unnamed: 11        586\n",
       "Time              3547\n",
       "Species           3153\n",
       "Source              44\n",
       "pdf                148\n",
       "href formula       128\n",
       "href               151\n",
       "Case Number        149\n",
       "Case Number.1      150\n",
       "original order     148\n",
       "Unnamed: 21       6946\n",
       "Unnamed: 22       6945\n",
       "dtype: int64"
      ]
     },
     "execution_count": 10,
     "metadata": {},
     "output_type": "execute_result"
    }
   ],
   "source": [
    "# Number of missing values for each column\n",
    "df.isna().sum()"
   ]
  },
  {
   "cell_type": "markdown",
   "metadata": {},
   "source": [
    "<ins><strong>Displaying names and culumns type : </strong></ins>"
   ]
  },
  {
   "cell_type": "code",
   "execution_count": 11,
   "metadata": {},
   "outputs": [
    {
     "data": {
      "text/plain": [
       "Date               object\n",
       "Year              float64\n",
       "Type               object\n",
       "Country            object\n",
       "State              object\n",
       "Location           object\n",
       "Activity           object\n",
       "Name               object\n",
       "Sex                object\n",
       "Age                object\n",
       "Injury             object\n",
       "Unnamed: 11        object\n",
       "Time               object\n",
       "Species            object\n",
       "Source             object\n",
       "pdf                object\n",
       "href formula       object\n",
       "href               object\n",
       "Case Number        object\n",
       "Case Number.1      object\n",
       "original order    float64\n",
       "Unnamed: 21        object\n",
       "Unnamed: 22        object\n",
       "dtype: object"
      ]
     },
     "execution_count": 11,
     "metadata": {},
     "output_type": "execute_result"
    }
   ],
   "source": [
    "df.dtypes"
   ]
  },
  {
   "cell_type": "markdown",
   "metadata": {},
   "source": [
    "<ins><strong>Displaying number of unique values for each column : </strong></ins>"
   ]
  },
  {
   "cell_type": "code",
   "execution_count": 12,
   "metadata": {
    "scrolled": true
   },
   "outputs": [
    {
     "data": {
      "text/plain": [
       "Date              5983\n",
       "Year               258\n",
       "Type                11\n",
       "Country            224\n",
       "State              896\n",
       "Location          4495\n",
       "Activity          1585\n",
       "Name              5669\n",
       "Sex                  9\n",
       "Age                243\n",
       "Injury            4071\n",
       "Unnamed: 11         12\n",
       "Time               409\n",
       "Species           1671\n",
       "Source            5284\n",
       "pdf               6789\n",
       "href formula      6785\n",
       "href              6776\n",
       "Case Number       6777\n",
       "Case Number.1     6775\n",
       "original order    6797\n",
       "Unnamed: 21          1\n",
       "Unnamed: 22          2\n",
       "dtype: int64"
      ]
     },
     "execution_count": 12,
     "metadata": {},
     "output_type": "execute_result"
    }
   ],
   "source": [
    "df.nunique()"
   ]
  },
  {
   "cell_type": "markdown",
   "metadata": {},
   "source": [
    "<ins><strong>Displaying number of unique values for each column that has less than 10 distinct values : </strong></ins>"
   ]
  },
  {
   "cell_type": "code",
   "execution_count": 13,
   "metadata": {},
   "outputs": [
    {
     "data": {
      "text/plain": [
       "Sex            9\n",
       "Unnamed: 21    1\n",
       "Unnamed: 22    2\n",
       "dtype: int64"
      ]
     },
     "execution_count": 13,
     "metadata": {},
     "output_type": "execute_result"
    }
   ],
   "source": [
    "df.nunique()[lambda x: x <= 10]"
   ]
  },
  {
   "cell_type": "markdown",
   "metadata": {},
   "source": [
    "#### <font color='CornflowerBlue'>c) Displaying unique values for each column that has less than 10 distinct value:</font>"
   ]
  },
  {
   "cell_type": "code",
   "execution_count": 14,
   "metadata": {},
   "outputs": [
    {
     "name": "stdout",
     "output_type": "stream",
     "text": [
      "Sex : ['20s' 'F' 'M' nan ' M' 'M ' 'lli' 'M x 2' 'N' '.']\n",
      "Unnamed: 21 : [nan 'stopped here']\n",
      "Unnamed: 22 : [nan 'Teramo' 'change filename']\n"
     ]
    }
   ],
   "source": [
    "dico = {}\n",
    "for i in range(len(df.columns)):\n",
    "    if df.nunique()[i] <= 10:\n",
    "        dico[df.columns[i]] = df.nunique()[i]\n",
    "        \n",
    "for j in dico.keys():\n",
    "    print(j,\":\",df[j].unique())"
   ]
  },
  {
   "cell_type": "markdown",
   "metadata": {},
   "source": [
    "### <font color='MediumBlue'>2 - <ins> Identifying numerical variables and their specifications</ins>: <font color='violet'></font>"
   ]
  },
  {
   "cell_type": "markdown",
   "metadata": {},
   "source": [
    "<ins><strong><font color='BlueViolet'>Numerical</font></strong> **variables specifications**:</ins>\n",
    "\n",
    "From the data types output it is safe to assume that the following columns are numerical variables: \n",
    "- **Year**: <em><font color='DarkMagenta'> float64</font></em>\n",
    "- **original order**: <em><font color='DarkMagenta'> float64</font></em>\n",
    "\n",
    "However, all remaining columns shouldn't be necessary considered as categorical variables.\n",
    "Indeed, based on the name of the following columns and their values, these are numerical variables in nature:\n",
    "\n",
    "- **Age**:<font color='red'> should be</font> <em><font color='DarkMagenta'>int</font></em>\n",
    "- **Date**:<font color='red'> should be</font><em><font color='DarkMagenta'> Date</font></em>\n",
    "- **Time**:<font color='red'> should be</font><em><font color='DarkMagenta'> Date</font></em>\n",
    "\n",
    "\n",
    "\n",
    "Additionally, here are the following actions that can be suggested to \"fix\" some of the data discrepancies:\n",
    "- Modify \"Date\" type and format\n",
    "- Change \"Year\" type to int\n",
    "- Deal with missing values such as \"Sex\"\n",
    "- Address outliers (?)"
   ]
  },
  {
   "cell_type": "code",
   "execution_count": 15,
   "metadata": {},
   "outputs": [
    {
     "data": {
      "text/html": [
       "<div>\n",
       "<style scoped>\n",
       "    .dataframe tbody tr th:only-of-type {\n",
       "        vertical-align: middle;\n",
       "    }\n",
       "\n",
       "    .dataframe tbody tr th {\n",
       "        vertical-align: top;\n",
       "    }\n",
       "\n",
       "    .dataframe thead th {\n",
       "        text-align: right;\n",
       "    }\n",
       "</style>\n",
       "<table border=\"1\" class=\"dataframe\">\n",
       "  <thead>\n",
       "    <tr style=\"text-align: right;\">\n",
       "      <th></th>\n",
       "      <th>date</th>\n",
       "      <th>year</th>\n",
       "      <th>type</th>\n",
       "      <th>country</th>\n",
       "      <th>state</th>\n",
       "      <th>location</th>\n",
       "      <th>activity</th>\n",
       "      <th>name</th>\n",
       "      <th>sex</th>\n",
       "      <th>age</th>\n",
       "      <th>...</th>\n",
       "      <th>species</th>\n",
       "      <th>source</th>\n",
       "      <th>pdf</th>\n",
       "      <th>href_formula</th>\n",
       "      <th>href</th>\n",
       "      <th>case_number</th>\n",
       "      <th>case_number.1</th>\n",
       "      <th>original_order</th>\n",
       "      <th>unnamed:_21</th>\n",
       "      <th>unnamed:_22</th>\n",
       "    </tr>\n",
       "  </thead>\n",
       "  <tbody>\n",
       "    <tr>\n",
       "      <th>0</th>\n",
       "      <td>08 Dec-2023</td>\n",
       "      <td>2023.0</td>\n",
       "      <td>Unprovoked</td>\n",
       "      <td>AUSTRALIA</td>\n",
       "      <td>Queensland</td>\n",
       "      <td>1770</td>\n",
       "      <td>Swimming</td>\n",
       "      <td>malle</td>\n",
       "      <td>20s</td>\n",
       "      <td>NaN</td>\n",
       "      <td>...</td>\n",
       "      <td>NaN</td>\n",
       "      <td>B. Myatt, GSAF</td>\n",
       "      <td>NaN</td>\n",
       "      <td>NaN</td>\n",
       "      <td>NaN</td>\n",
       "      <td>NaN</td>\n",
       "      <td>NaN</td>\n",
       "      <td>NaN</td>\n",
       "      <td>NaN</td>\n",
       "      <td>NaN</td>\n",
       "    </tr>\n",
       "    <tr>\n",
       "      <th>1</th>\n",
       "      <td>04 Dec-2023</td>\n",
       "      <td>2023.0</td>\n",
       "      <td>Unprovoked</td>\n",
       "      <td>BAHAMAS</td>\n",
       "      <td>New Providence   Isoad</td>\n",
       "      <td>Sandals Resort</td>\n",
       "      <td>Paddle boarding</td>\n",
       "      <td>Lauren Erickson Van Wart</td>\n",
       "      <td>F</td>\n",
       "      <td>44</td>\n",
       "      <td>...</td>\n",
       "      <td>NaN</td>\n",
       "      <td>NBC News, 12/4/2023</td>\n",
       "      <td>NaN</td>\n",
       "      <td>NaN</td>\n",
       "      <td>NaN</td>\n",
       "      <td>NaN</td>\n",
       "      <td>NaN</td>\n",
       "      <td>NaN</td>\n",
       "      <td>NaN</td>\n",
       "      <td>NaN</td>\n",
       "    </tr>\n",
       "    <tr>\n",
       "      <th>2</th>\n",
       "      <td>02 Dec-2023</td>\n",
       "      <td>2023.0</td>\n",
       "      <td>Unprovoked</td>\n",
       "      <td>MEXICO</td>\n",
       "      <td>Jalisco</td>\n",
       "      <td>San Patricio Melaque</td>\n",
       "      <td>Swimming</td>\n",
       "      <td>Maria Fernandez Martinez Jimenez</td>\n",
       "      <td>F</td>\n",
       "      <td>26</td>\n",
       "      <td>...</td>\n",
       "      <td>NaN</td>\n",
       "      <td>News Channel 21, 12/3.2023</td>\n",
       "      <td>NaN</td>\n",
       "      <td>NaN</td>\n",
       "      <td>NaN</td>\n",
       "      <td>NaN</td>\n",
       "      <td>NaN</td>\n",
       "      <td>NaN</td>\n",
       "      <td>NaN</td>\n",
       "      <td>NaN</td>\n",
       "    </tr>\n",
       "    <tr>\n",
       "      <th>3</th>\n",
       "      <td>30 Nov-2023</td>\n",
       "      <td>2023.0</td>\n",
       "      <td>Unprovoked</td>\n",
       "      <td>AUSTRALIA</td>\n",
       "      <td>Queensland</td>\n",
       "      <td>Clack Island</td>\n",
       "      <td>Swimming</td>\n",
       "      <td>Matthew Davitt</td>\n",
       "      <td>M</td>\n",
       "      <td>21</td>\n",
       "      <td>...</td>\n",
       "      <td>1.8m bull shark</td>\n",
       "      <td>ABC Net, 11/30/2023</td>\n",
       "      <td>NaN</td>\n",
       "      <td>NaN</td>\n",
       "      <td>NaN</td>\n",
       "      <td>NaN</td>\n",
       "      <td>NaN</td>\n",
       "      <td>NaN</td>\n",
       "      <td>NaN</td>\n",
       "      <td>NaN</td>\n",
       "    </tr>\n",
       "    <tr>\n",
       "      <th>4</th>\n",
       "      <td>21 Nov-2023</td>\n",
       "      <td>2023.0</td>\n",
       "      <td>Unprovoked</td>\n",
       "      <td>BAHAMAS</td>\n",
       "      <td>Grand  Bahama Island</td>\n",
       "      <td>Tiger Beach</td>\n",
       "      <td>Scuba diving</td>\n",
       "      <td>female</td>\n",
       "      <td>F</td>\n",
       "      <td>47</td>\n",
       "      <td>...</td>\n",
       "      <td>NaN</td>\n",
       "      <td>Eye Witness News, 11/22/2023</td>\n",
       "      <td>NaN</td>\n",
       "      <td>NaN</td>\n",
       "      <td>NaN</td>\n",
       "      <td>NaN</td>\n",
       "      <td>NaN</td>\n",
       "      <td>NaN</td>\n",
       "      <td>NaN</td>\n",
       "      <td>NaN</td>\n",
       "    </tr>\n",
       "    <tr>\n",
       "      <th>...</th>\n",
       "      <td>...</td>\n",
       "      <td>...</td>\n",
       "      <td>...</td>\n",
       "      <td>...</td>\n",
       "      <td>...</td>\n",
       "      <td>...</td>\n",
       "      <td>...</td>\n",
       "      <td>...</td>\n",
       "      <td>...</td>\n",
       "      <td>...</td>\n",
       "      <td>...</td>\n",
       "      <td>...</td>\n",
       "      <td>...</td>\n",
       "      <td>...</td>\n",
       "      <td>...</td>\n",
       "      <td>...</td>\n",
       "      <td>...</td>\n",
       "      <td>...</td>\n",
       "      <td>...</td>\n",
       "      <td>...</td>\n",
       "      <td>...</td>\n",
       "    </tr>\n",
       "    <tr>\n",
       "      <th>6942</th>\n",
       "      <td>NaN</td>\n",
       "      <td>NaN</td>\n",
       "      <td>NaN</td>\n",
       "      <td>NaN</td>\n",
       "      <td>NaN</td>\n",
       "      <td>NaN</td>\n",
       "      <td>NaN</td>\n",
       "      <td>NaN</td>\n",
       "      <td>NaN</td>\n",
       "      <td>NaN</td>\n",
       "      <td>...</td>\n",
       "      <td>NaN</td>\n",
       "      <td>NaN</td>\n",
       "      <td>NaN</td>\n",
       "      <td>http://sharkattackfile.net/spreadsheets/pdf_di...</td>\n",
       "      <td>NaN</td>\n",
       "      <td>NaN</td>\n",
       "      <td>NaN</td>\n",
       "      <td>NaN</td>\n",
       "      <td>NaN</td>\n",
       "      <td>NaN</td>\n",
       "    </tr>\n",
       "    <tr>\n",
       "      <th>6943</th>\n",
       "      <td>NaN</td>\n",
       "      <td>NaN</td>\n",
       "      <td>NaN</td>\n",
       "      <td>NaN</td>\n",
       "      <td>NaN</td>\n",
       "      <td>NaN</td>\n",
       "      <td>NaN</td>\n",
       "      <td>NaN</td>\n",
       "      <td>NaN</td>\n",
       "      <td>NaN</td>\n",
       "      <td>...</td>\n",
       "      <td>NaN</td>\n",
       "      <td>NaN</td>\n",
       "      <td>NaN</td>\n",
       "      <td>http://sharkattackfile.net/spreadsheets/pdf_di...</td>\n",
       "      <td>NaN</td>\n",
       "      <td>NaN</td>\n",
       "      <td>NaN</td>\n",
       "      <td>NaN</td>\n",
       "      <td>NaN</td>\n",
       "      <td>NaN</td>\n",
       "    </tr>\n",
       "    <tr>\n",
       "      <th>6944</th>\n",
       "      <td>NaN</td>\n",
       "      <td>NaN</td>\n",
       "      <td>NaN</td>\n",
       "      <td>NaN</td>\n",
       "      <td>NaN</td>\n",
       "      <td>NaN</td>\n",
       "      <td>NaN</td>\n",
       "      <td>NaN</td>\n",
       "      <td>NaN</td>\n",
       "      <td>NaN</td>\n",
       "      <td>...</td>\n",
       "      <td>NaN</td>\n",
       "      <td>NaN</td>\n",
       "      <td>NaN</td>\n",
       "      <td>http://sharkattackfile.net/spreadsheets/pdf_di...</td>\n",
       "      <td>NaN</td>\n",
       "      <td>NaN</td>\n",
       "      <td>NaN</td>\n",
       "      <td>NaN</td>\n",
       "      <td>NaN</td>\n",
       "      <td>NaN</td>\n",
       "    </tr>\n",
       "    <tr>\n",
       "      <th>6945</th>\n",
       "      <td>NaN</td>\n",
       "      <td>NaN</td>\n",
       "      <td>NaN</td>\n",
       "      <td>NaN</td>\n",
       "      <td>NaN</td>\n",
       "      <td>NaN</td>\n",
       "      <td>NaN</td>\n",
       "      <td>NaN</td>\n",
       "      <td>NaN</td>\n",
       "      <td>NaN</td>\n",
       "      <td>...</td>\n",
       "      <td>NaN</td>\n",
       "      <td>NaN</td>\n",
       "      <td>NaN</td>\n",
       "      <td>http://sharkattackfile.net/spreadsheets/pdf_di...</td>\n",
       "      <td>NaN</td>\n",
       "      <td>NaN</td>\n",
       "      <td>NaN</td>\n",
       "      <td>NaN</td>\n",
       "      <td>NaN</td>\n",
       "      <td>NaN</td>\n",
       "    </tr>\n",
       "    <tr>\n",
       "      <th>6946</th>\n",
       "      <td>NaN</td>\n",
       "      <td>NaN</td>\n",
       "      <td>NaN</td>\n",
       "      <td>NaN</td>\n",
       "      <td>NaN</td>\n",
       "      <td>NaN</td>\n",
       "      <td>NaN</td>\n",
       "      <td>NaN</td>\n",
       "      <td>NaN</td>\n",
       "      <td>NaN</td>\n",
       "      <td>...</td>\n",
       "      <td>NaN</td>\n",
       "      <td>NaN</td>\n",
       "      <td>NaN</td>\n",
       "      <td>http://sharkattackfile.net/spreadsheets/pdf_di...</td>\n",
       "      <td>NaN</td>\n",
       "      <td>NaN</td>\n",
       "      <td>NaN</td>\n",
       "      <td>NaN</td>\n",
       "      <td>NaN</td>\n",
       "      <td>NaN</td>\n",
       "    </tr>\n",
       "  </tbody>\n",
       "</table>\n",
       "<p>6947 rows × 23 columns</p>\n",
       "</div>"
      ],
      "text/plain": [
       "             date    year        type    country                   state  \\\n",
       "0     08 Dec-2023  2023.0  Unprovoked  AUSTRALIA              Queensland   \n",
       "1     04 Dec-2023  2023.0  Unprovoked    BAHAMAS  New Providence   Isoad   \n",
       "2     02 Dec-2023  2023.0  Unprovoked     MEXICO                 Jalisco   \n",
       "3     30 Nov-2023  2023.0  Unprovoked  AUSTRALIA              Queensland   \n",
       "4     21 Nov-2023  2023.0  Unprovoked    BAHAMAS    Grand  Bahama Island   \n",
       "...           ...     ...         ...        ...                     ...   \n",
       "6942          NaN     NaN         NaN        NaN                     NaN   \n",
       "6943          NaN     NaN         NaN        NaN                     NaN   \n",
       "6944          NaN     NaN         NaN        NaN                     NaN   \n",
       "6945          NaN     NaN         NaN        NaN                     NaN   \n",
       "6946          NaN     NaN         NaN        NaN                     NaN   \n",
       "\n",
       "                  location         activity                              name  \\\n",
       "0                    1770          Swimming                             malle   \n",
       "1           Sandals Resort  Paddle boarding          Lauren Erickson Van Wart   \n",
       "2     San Patricio Melaque         Swimming  Maria Fernandez Martinez Jimenez   \n",
       "3             Clack Island         Swimming                    Matthew Davitt   \n",
       "4              Tiger Beach     Scuba diving                            female   \n",
       "...                    ...              ...                               ...   \n",
       "6942                   NaN              NaN                               NaN   \n",
       "6943                   NaN              NaN                               NaN   \n",
       "6944                   NaN              NaN                               NaN   \n",
       "6945                   NaN              NaN                               NaN   \n",
       "6946                   NaN              NaN                               NaN   \n",
       "\n",
       "      sex  age  ...          species                        source  pdf  \\\n",
       "0     20s  NaN  ...              NaN                B. Myatt, GSAF  NaN   \n",
       "1       F   44  ...              NaN           NBC News, 12/4/2023  NaN   \n",
       "2       F   26  ...              NaN    News Channel 21, 12/3.2023  NaN   \n",
       "3       M   21  ...  1.8m bull shark           ABC Net, 11/30/2023  NaN   \n",
       "4       F   47  ...              NaN  Eye Witness News, 11/22/2023  NaN   \n",
       "...   ...  ...  ...              ...                           ...  ...   \n",
       "6942  NaN  NaN  ...              NaN                           NaN  NaN   \n",
       "6943  NaN  NaN  ...              NaN                           NaN  NaN   \n",
       "6944  NaN  NaN  ...              NaN                           NaN  NaN   \n",
       "6945  NaN  NaN  ...              NaN                           NaN  NaN   \n",
       "6946  NaN  NaN  ...              NaN                           NaN  NaN   \n",
       "\n",
       "                                           href_formula href case_number  \\\n",
       "0                                                   NaN  NaN         NaN   \n",
       "1                                                   NaN  NaN         NaN   \n",
       "2                                                   NaN  NaN         NaN   \n",
       "3                                                   NaN  NaN         NaN   \n",
       "4                                                   NaN  NaN         NaN   \n",
       "...                                                 ...  ...         ...   \n",
       "6942  http://sharkattackfile.net/spreadsheets/pdf_di...  NaN         NaN   \n",
       "6943  http://sharkattackfile.net/spreadsheets/pdf_di...  NaN         NaN   \n",
       "6944  http://sharkattackfile.net/spreadsheets/pdf_di...  NaN         NaN   \n",
       "6945  http://sharkattackfile.net/spreadsheets/pdf_di...  NaN         NaN   \n",
       "6946  http://sharkattackfile.net/spreadsheets/pdf_di...  NaN         NaN   \n",
       "\n",
       "     case_number.1 original_order unnamed:_21 unnamed:_22  \n",
       "0              NaN            NaN         NaN         NaN  \n",
       "1              NaN            NaN         NaN         NaN  \n",
       "2              NaN            NaN         NaN         NaN  \n",
       "3              NaN            NaN         NaN         NaN  \n",
       "4              NaN            NaN         NaN         NaN  \n",
       "...            ...            ...         ...         ...  \n",
       "6942           NaN            NaN         NaN         NaN  \n",
       "6943           NaN            NaN         NaN         NaN  \n",
       "6944           NaN            NaN         NaN         NaN  \n",
       "6945           NaN            NaN         NaN         NaN  \n",
       "6946           NaN            NaN         NaN         NaN  \n",
       "\n",
       "[6947 rows x 23 columns]"
      ]
     },
     "execution_count": 15,
     "metadata": {},
     "output_type": "execute_result"
    }
   ],
   "source": [
    "#renaming variables: everything in lower case and replacing spaces levaring fix_col_names function\n",
    "\n",
    "def fix_col_names(df):\n",
    "    df.columns = df.columns.str.strip().str.lower().str.replace(r'\\s+','_',regex=True)\n",
    "    return df\n",
    "\n",
    "fix_col_names(df)\n",
    "#\n",
    "# example df.rename(columns= {'foo': 'bar'}, inplace=True)\n",
    "\n"
   ]
  },
  {
   "cell_type": "code",
   "execution_count": 16,
   "metadata": {},
   "outputs": [
    {
     "data": {
      "text/plain": [
       "array(['20s', 'F', 'M', nan, ' M', 'M ', 'lli', 'M x 2', 'N', '.'],\n",
       "      dtype=object)"
      ]
     },
     "execution_count": 16,
     "metadata": {},
     "output_type": "execute_result"
    }
   ],
   "source": [
    "# Cleaning \"Sex\" column\n",
    "df_cleaned = df\n",
    "\n",
    "df_cleaned[\"sex\"].unique()"
   ]
  },
  {
   "cell_type": "code",
   "execution_count": 17,
   "metadata": {},
   "outputs": [],
   "source": [
    "\n",
    "df_cleaned[\"sex\"] = df_cleaned[\"sex\"].str.replace(\" \", \"\")\n",
    "\n",
    "df_cleaned[\"sex\"] = df_cleaned[\"sex\"].str.replace(\"Mx2\", \"M\").replace(\"male\", \"M\").replace(\"males\", \"M\")\n",
    "df_cleaned[\"sex\"] = df_cleaned[\"sex\"].apply(lambda x: x if (x =='F' or  x =='M' or x == \"boat\") else \"unknown\")\n",
    "#df_cleaned[\"sex\"] = df_cleaned[\"sex\"].str.replace(\" \", \"\")"
   ]
  },
  {
   "cell_type": "code",
   "execution_count": 18,
   "metadata": {},
   "outputs": [
    {
     "data": {
      "text/plain": [
       "M          5565\n",
       "F           773\n",
       "unknown     609\n",
       "Name: sex, dtype: int64"
      ]
     },
     "execution_count": 18,
     "metadata": {},
     "output_type": "execute_result"
    }
   ],
   "source": [
    "df_cleaned[\"sex\"].value_counts()"
   ]
  },
  {
   "cell_type": "code",
   "execution_count": 19,
   "metadata": {},
   "outputs": [],
   "source": [
    "#df_cleaned.head(3)\n",
    "\n",
    "del df_cleaned[\"unnamed:_21\"] # deleting empty col\n",
    "del df_cleaned[\"unnamed:_22\"] # deleting empty col"
   ]
  },
  {
   "cell_type": "code",
   "execution_count": 20,
   "metadata": {},
   "outputs": [
    {
     "data": {
      "text/html": [
       "<div>\n",
       "<style scoped>\n",
       "    .dataframe tbody tr th:only-of-type {\n",
       "        vertical-align: middle;\n",
       "    }\n",
       "\n",
       "    .dataframe tbody tr th {\n",
       "        vertical-align: top;\n",
       "    }\n",
       "\n",
       "    .dataframe thead th {\n",
       "        text-align: right;\n",
       "    }\n",
       "</style>\n",
       "<table border=\"1\" class=\"dataframe\">\n",
       "  <thead>\n",
       "    <tr style=\"text-align: right;\">\n",
       "      <th></th>\n",
       "      <th>date</th>\n",
       "      <th>year</th>\n",
       "      <th>type</th>\n",
       "      <th>country</th>\n",
       "      <th>state</th>\n",
       "      <th>location</th>\n",
       "      <th>activity</th>\n",
       "      <th>name</th>\n",
       "      <th>sex</th>\n",
       "      <th>age</th>\n",
       "      <th>...</th>\n",
       "      <th>unnamed:_11</th>\n",
       "      <th>time</th>\n",
       "      <th>species</th>\n",
       "      <th>source</th>\n",
       "      <th>pdf</th>\n",
       "      <th>href_formula</th>\n",
       "      <th>href</th>\n",
       "      <th>case_number</th>\n",
       "      <th>case_number.1</th>\n",
       "      <th>original_order</th>\n",
       "    </tr>\n",
       "  </thead>\n",
       "  <tbody>\n",
       "    <tr>\n",
       "      <th>0</th>\n",
       "      <td>08 Dec-2023</td>\n",
       "      <td>2023.0</td>\n",
       "      <td>Unprovoked</td>\n",
       "      <td>AUSTRALIA</td>\n",
       "      <td>Queensland</td>\n",
       "      <td>1770</td>\n",
       "      <td>Swimming</td>\n",
       "      <td>malle</td>\n",
       "      <td>unknown</td>\n",
       "      <td>NaN</td>\n",
       "      <td>...</td>\n",
       "      <td>N</td>\n",
       "      <td>16h32</td>\n",
       "      <td>NaN</td>\n",
       "      <td>B. Myatt, GSAF</td>\n",
       "      <td>NaN</td>\n",
       "      <td>NaN</td>\n",
       "      <td>NaN</td>\n",
       "      <td>NaN</td>\n",
       "      <td>NaN</td>\n",
       "      <td>NaN</td>\n",
       "    </tr>\n",
       "    <tr>\n",
       "      <th>1</th>\n",
       "      <td>04 Dec-2023</td>\n",
       "      <td>2023.0</td>\n",
       "      <td>Unprovoked</td>\n",
       "      <td>BAHAMAS</td>\n",
       "      <td>New Providence   Isoad</td>\n",
       "      <td>Sandals Resort</td>\n",
       "      <td>Paddle boarding</td>\n",
       "      <td>Lauren Erickson Van Wart</td>\n",
       "      <td>F</td>\n",
       "      <td>44</td>\n",
       "      <td>...</td>\n",
       "      <td>Y</td>\n",
       "      <td>11h00</td>\n",
       "      <td>NaN</td>\n",
       "      <td>NBC News, 12/4/2023</td>\n",
       "      <td>NaN</td>\n",
       "      <td>NaN</td>\n",
       "      <td>NaN</td>\n",
       "      <td>NaN</td>\n",
       "      <td>NaN</td>\n",
       "      <td>NaN</td>\n",
       "    </tr>\n",
       "    <tr>\n",
       "      <th>2</th>\n",
       "      <td>02 Dec-2023</td>\n",
       "      <td>2023.0</td>\n",
       "      <td>Unprovoked</td>\n",
       "      <td>MEXICO</td>\n",
       "      <td>Jalisco</td>\n",
       "      <td>San Patricio Melaque</td>\n",
       "      <td>Swimming</td>\n",
       "      <td>Maria Fernandez Martinez Jimenez</td>\n",
       "      <td>F</td>\n",
       "      <td>26</td>\n",
       "      <td>...</td>\n",
       "      <td>Y</td>\n",
       "      <td>Morning</td>\n",
       "      <td>NaN</td>\n",
       "      <td>News Channel 21, 12/3.2023</td>\n",
       "      <td>NaN</td>\n",
       "      <td>NaN</td>\n",
       "      <td>NaN</td>\n",
       "      <td>NaN</td>\n",
       "      <td>NaN</td>\n",
       "      <td>NaN</td>\n",
       "    </tr>\n",
       "    <tr>\n",
       "      <th>3</th>\n",
       "      <td>30 Nov-2023</td>\n",
       "      <td>2023.0</td>\n",
       "      <td>Unprovoked</td>\n",
       "      <td>AUSTRALIA</td>\n",
       "      <td>Queensland</td>\n",
       "      <td>Clack Island</td>\n",
       "      <td>Swimming</td>\n",
       "      <td>Matthew Davitt</td>\n",
       "      <td>M</td>\n",
       "      <td>21</td>\n",
       "      <td>...</td>\n",
       "      <td>N</td>\n",
       "      <td>11h30</td>\n",
       "      <td>1.8m bull shark</td>\n",
       "      <td>ABC Net, 11/30/2023</td>\n",
       "      <td>NaN</td>\n",
       "      <td>NaN</td>\n",
       "      <td>NaN</td>\n",
       "      <td>NaN</td>\n",
       "      <td>NaN</td>\n",
       "      <td>NaN</td>\n",
       "    </tr>\n",
       "    <tr>\n",
       "      <th>4</th>\n",
       "      <td>21 Nov-2023</td>\n",
       "      <td>2023.0</td>\n",
       "      <td>Unprovoked</td>\n",
       "      <td>BAHAMAS</td>\n",
       "      <td>Grand  Bahama Island</td>\n",
       "      <td>Tiger Beach</td>\n",
       "      <td>Scuba diving</td>\n",
       "      <td>female</td>\n",
       "      <td>F</td>\n",
       "      <td>47</td>\n",
       "      <td>...</td>\n",
       "      <td>Y</td>\n",
       "      <td>10h30</td>\n",
       "      <td>NaN</td>\n",
       "      <td>Eye Witness News, 11/22/2023</td>\n",
       "      <td>NaN</td>\n",
       "      <td>NaN</td>\n",
       "      <td>NaN</td>\n",
       "      <td>NaN</td>\n",
       "      <td>NaN</td>\n",
       "      <td>NaN</td>\n",
       "    </tr>\n",
       "  </tbody>\n",
       "</table>\n",
       "<p>5 rows × 21 columns</p>\n",
       "</div>"
      ],
      "text/plain": [
       "          date    year        type    country                   state  \\\n",
       "0  08 Dec-2023  2023.0  Unprovoked  AUSTRALIA              Queensland   \n",
       "1  04 Dec-2023  2023.0  Unprovoked    BAHAMAS  New Providence   Isoad   \n",
       "2  02 Dec-2023  2023.0  Unprovoked     MEXICO                 Jalisco   \n",
       "3  30 Nov-2023  2023.0  Unprovoked  AUSTRALIA              Queensland   \n",
       "4  21 Nov-2023  2023.0  Unprovoked    BAHAMAS    Grand  Bahama Island   \n",
       "\n",
       "               location         activity                              name  \\\n",
       "0                 1770          Swimming                             malle   \n",
       "1        Sandals Resort  Paddle boarding          Lauren Erickson Van Wart   \n",
       "2  San Patricio Melaque         Swimming  Maria Fernandez Martinez Jimenez   \n",
       "3          Clack Island         Swimming                    Matthew Davitt   \n",
       "4           Tiger Beach     Scuba diving                            female   \n",
       "\n",
       "       sex  age  ... unnamed:_11     time          species  \\\n",
       "0  unknown  NaN  ...           N    16h32              NaN   \n",
       "1        F   44  ...           Y    11h00              NaN   \n",
       "2        F   26  ...           Y  Morning              NaN   \n",
       "3        M   21  ...           N    11h30  1.8m bull shark   \n",
       "4        F   47  ...           Y    10h30              NaN   \n",
       "\n",
       "                         source  pdf href_formula href case_number  \\\n",
       "0                B. Myatt, GSAF  NaN          NaN  NaN         NaN   \n",
       "1           NBC News, 12/4/2023  NaN          NaN  NaN         NaN   \n",
       "2    News Channel 21, 12/3.2023  NaN          NaN  NaN         NaN   \n",
       "3           ABC Net, 11/30/2023  NaN          NaN  NaN         NaN   \n",
       "4  Eye Witness News, 11/22/2023  NaN          NaN  NaN         NaN   \n",
       "\n",
       "  case_number.1 original_order  \n",
       "0           NaN            NaN  \n",
       "1           NaN            NaN  \n",
       "2           NaN            NaN  \n",
       "3           NaN            NaN  \n",
       "4           NaN            NaN  \n",
       "\n",
       "[5 rows x 21 columns]"
      ]
     },
     "execution_count": 20,
     "metadata": {},
     "output_type": "execute_result"
    }
   ],
   "source": [
    "df_cleaned.drop_duplicates(inplace=True) # deleting duplicates\n",
    "df_cleaned.head()"
   ]
  },
  {
   "cell_type": "code",
   "execution_count": 21,
   "metadata": {},
   "outputs": [
    {
     "data": {
      "text/plain": [
       "Surfing                                                                                    1116\n",
       "Swimming                                                                                    970\n",
       "Fishing                                                                                     485\n",
       "Spearfishing                                                                                380\n",
       "Wading                                                                                      173\n",
       "                                                                                           ... \n",
       "Swimming outside fishing net                                                                  1\n",
       "Attempting to net shark in shark channel                                                      1\n",
       "Swimming to shore from capsized sailboat                                                      1\n",
       "Free diving & spearfishing                                                                    1\n",
       "Accidentally dragged overboard from the sampan Holokahana into school of yellowfin tuna       1\n",
       "Name: activity, Length: 1585, dtype: int64"
      ]
     },
     "execution_count": 21,
     "metadata": {},
     "output_type": "execute_result"
    }
   ],
   "source": [
    "# Cleaning \"activity\" column\n",
    "df_cleaned[\"activity\"].value_counts()[lambda x: x <= 20]\n",
    "df_cleaned[\"activity\"].value_counts()"
   ]
  },
  {
   "cell_type": "code",
   "execution_count": 22,
   "metadata": {},
   "outputs": [
    {
     "data": {
      "text/plain": [
       "799"
      ]
     },
     "execution_count": 22,
     "metadata": {},
     "output_type": "execute_result"
    }
   ],
   "source": [
    "import re\n",
    "# Cleaning \"Activities\" column\n",
    "\n",
    "def strip_strings(value):\n",
    "    if isinstance(value, str):\n",
    "        return value.strip()\n",
    "    else:\n",
    "        return value\n",
    "\n",
    "df_cleaned[\"activity\"] = df_cleaned[\"activity\"].apply(strip_strings)\n",
    "df_cleaned[\"activity\"]=df_cleaned[\"activity\"].replace(\"-\", \" \")\n",
    "df_cleaned[\"activity\"]=df_cleaned[\"activity\"].str.lower().replace(r\".*swimming.*\",\"swimming\", regex=True)\n",
    "df_cleaned[\"activity\"]= df_cleaned[\"activity\"].replace(r\".*fishing.*\",\"fishing\", regex=True)\n",
    "df_cleaned[\"activity\"]=df_cleaned[\"activity\"].replace(r\".*surfboard.*\",\"surfing\", regex=True)\n",
    "df_cleaned[\"activity\"]=df_cleaned[\"activity\"].replace(r\"floating\",\"swimming\", regex=True)\n",
    "df_cleaned[\"activity\"]=df_cleaned[\"activity\"].replace(r\".*stand-up paddle.*\",\"stand-up paddle\", regex=True)\n",
    "df_cleaned[\"activity\"]=df_cleaned[\"activity\"].replace(r\".*bathing.*\",\"bathing\", regex=True)\n",
    "df_cleaned[\"activity\"]=df_cleaned[\"activity\"].replace(r\".*surfing.*\",\"surfing\", regex=True)\n",
    "df_cleaned[\"activity\"]=df_cleaned[\"activity\"].replace(r\".*surf-skiing.*\",\"kayaking\", regex=True)\n",
    "df_cleaned[\"activity\"]=df_cleaned[\"activity\"].replace(r\".*surf skiing.*\",\"kayaking\", regex=True)\n",
    "df_cleaned[\"activity\"]=df_cleaned[\"activity\"].replace(r\".*kayaking.*\",\"kayaking\", regex=True)\n",
    "df_cleaned[\"activity\"]=df_cleaned[\"activity\"].replace(r\".*shark feeding.*\",\"shark feeding\", regex=True)\n",
    "df_cleaned[\"activity\"]=df_cleaned[\"activity\"].replace(r\".*feeding sharks.*\",\"shark feeding\", regex=True)\n",
    "df_cleaned[\"activity\"]=df_cleaned[\"activity\"].replace(r\".*kayak.*\",\"kayaking\", regex=True)\n",
    "df_cleaned[\"activity\"]=df_cleaned[\"activity\"].replace(r\".*canoe.*\",\"canoeing\", regex=True)\n",
    "df_cleaned[\"activity\"]=df_cleaned[\"activity\"].replace(r\".*stand up paddle.*\",\"stand up paddle\", regex=True)\n",
    "df_cleaned[\"activity\"]=df_cleaned[\"activity\"].replace(r\".*paddle boarding.*\",\"stand up paddle\", regex=True)\n",
    "df_cleaned[\"activity\"]=df_cleaned[\"activity\"].replace(r\".*SUP.*\",\"stand up paddle\", regex=True)\n",
    "df_cleaned[\"activity\"]=df_cleaned[\"activity\"].replace(r\".*surf-sking.*\",\"kayaking\", regex=True)\n",
    "df_cleaned[\"activity\"]=df_cleaned[\"activity\"].replace(r\".*diving.*\",\"diving\", regex=True)\n",
    "\n",
    "df_cleaned[\"activity\"].value_counts()\n",
    "df_cleaned[\"activity\"].nunique()"
   ]
  },
  {
   "cell_type": "code",
   "execution_count": 23,
   "metadata": {},
   "outputs": [
    {
     "data": {
      "text/plain": [
       "Unprovoked      5091\n",
       "Provoked         633\n",
       "Unconfirmed      576\n",
       "Watercraft       355\n",
       "Sea Disaster     242\n",
       "Boat               7\n",
       "Name: type, dtype: int64"
      ]
     },
     "execution_count": 23,
     "metadata": {},
     "output_type": "execute_result"
    }
   ],
   "source": [
    "df_cleaned[\"type\"].replace([\"Unverified\", \"?\", \"Under investigation\", \"Invalid\", \"Questionable\"], \"Unconfirmed\", inplace=True)\n",
    "df_cleaned[\"type\"].value_counts()"
   ]
  },
  {
   "cell_type": "code",
   "execution_count": 24,
   "metadata": {},
   "outputs": [],
   "source": [
    "# Changing Age type\n",
    "\n",
    "# df['age'] = df['age'].apply(float)"
   ]
  },
  {
   "cell_type": "markdown",
   "metadata": {},
   "source": [
    "#### <font color='CornflowerBlue'>a) Continuous variables: </font>"
   ]
  },
  {
   "cell_type": "code",
   "execution_count": 25,
   "metadata": {},
   "outputs": [],
   "source": [
    "cont_var = ['age', 'year'] #Age object -> int, Year  float64 -> int\n"
   ]
  },
  {
   "cell_type": "markdown",
   "metadata": {},
   "source": [
    "#### <font color='CornflowerBlue'>b) Discrete variables: </font>"
   ]
  },
  {
   "cell_type": "code",
   "execution_count": 26,
   "metadata": {},
   "outputs": [],
   "source": [
    "disc_var = ['date','time', 'original_order']     # None for this dataset, Time   object -> datetime, Date:  object "
   ]
  },
  {
   "cell_type": "markdown",
   "metadata": {},
   "source": [
    "#### <font color='CornflowerBlue'>c) All numerical variables: </font>"
   ]
  },
  {
   "cell_type": "code",
   "execution_count": 27,
   "metadata": {},
   "outputs": [],
   "source": [
    "num_var = disc_var + cont_var"
   ]
  },
  {
   "cell_type": "markdown",
   "metadata": {},
   "source": [
    "### <font color='MediumBlue'>3 - <ins> Identifying categorical variables and their specifications</ins>: <font color='violet'></font>"
   ]
  },
  {
   "cell_type": "markdown",
   "metadata": {},
   "source": [
    "<strong><font color='BlueViolet'>Categorical</font></strong> **variables specification**:\n",
    "\n",
    "- **xxx**: <ins><em><font color='DarkMagenta'>Nominal</font></em></ins>.There is no obvious order for that variable.\n",
    "- **xx**:<ins><em><font color='DarkMagenta'>Nominal</font></em></ins>.There is no obvious order for that variable.\n",
    "- **xxx**: <ins><em><font color='DarkMagenta'>Nominal</font></em></ins>. This is a boolean like variable with no particular order. \n",
    "- **xxx**: <ins><em><font color='DarkMagenta'>Nominal</font></em></ins>.This is a boolean like variable with no particular order.\n",
    "- **xxx**: <ins><em><font color='DarkMagenta'>Ordinal</font></em></ins>.Clearly, we can order the level of education, for example by ascending order.\n",
    "\n"
   ]
  },
  {
   "cell_type": "markdown",
   "metadata": {},
   "source": [
    "####  <font color='CornflowerBlue'>a) Nominal variables: </font>"
   ]
  },
  {
   "cell_type": "code",
   "execution_count": 28,
   "metadata": {},
   "outputs": [],
   "source": [
    "nom_var = ['type','country','state','location','activity','name','sex','injury','species','source']"
   ]
  },
  {
   "cell_type": "markdown",
   "metadata": {},
   "source": [
    "#### <font color='CornflowerBlue'>b) Ordinal variables:</font>"
   ]
  },
  {
   "cell_type": "code",
   "execution_count": 29,
   "metadata": {},
   "outputs": [],
   "source": [
    "ord_var = []"
   ]
  },
  {
   "cell_type": "markdown",
   "metadata": {},
   "source": [
    "####  <font color='CornflowerBlue'>c) All categorical variables:</font>"
   ]
  },
  {
   "cell_type": "code",
   "execution_count": 30,
   "metadata": {},
   "outputs": [],
   "source": [
    "cat_var = nom_var + ord_var"
   ]
  },
  {
   "cell_type": "markdown",
   "metadata": {},
   "source": [
    "## <font color='DarkBlue'>III. <ins>Analysing Descriptive Statistics</ins>: <font color='blue'></font>"
   ]
  },
  {
   "cell_type": "code",
   "execution_count": 31,
   "metadata": {},
   "outputs": [
    {
     "data": {
      "text/plain": [
       "date                 1\n",
       "year                 3\n",
       "type                19\n",
       "country             51\n",
       "state              482\n",
       "location           565\n",
       "activity           586\n",
       "name               220\n",
       "sex                  0\n",
       "age               2992\n",
       "injury              36\n",
       "unnamed:_11        562\n",
       "time              3523\n",
       "species           3129\n",
       "source              20\n",
       "pdf                124\n",
       "href_formula       128\n",
       "href               127\n",
       "case_number        125\n",
       "case_number.1      126\n",
       "original_order     124\n",
       "dtype: int64"
      ]
     },
     "execution_count": 31,
     "metadata": {},
     "output_type": "execute_result"
    }
   ],
   "source": [
    "# Number of missing values for each column\n",
    "df.isna().sum()\n"
   ]
  },
  {
   "cell_type": "code",
   "execution_count": 32,
   "metadata": {},
   "outputs": [
    {
     "data": {
      "text/plain": [
       "date               0.014445\n",
       "year               0.043334\n",
       "type               0.274447\n",
       "country            0.736675\n",
       "state              6.962300\n",
       "location           8.161202\n",
       "activity           8.464538\n",
       "name               3.177813\n",
       "sex                0.000000\n",
       "age               43.218258\n",
       "injury             0.520006\n",
       "unnamed:_11        8.117868\n",
       "time              50.888343\n",
       "species           45.197169\n",
       "source             0.288892\n",
       "pdf                1.791131\n",
       "href_formula       1.848909\n",
       "href               1.834465\n",
       "case_number        1.805576\n",
       "case_number.1      1.820020\n",
       "original_order     1.791131\n",
       "dtype: float64"
      ]
     },
     "execution_count": 32,
     "metadata": {},
     "output_type": "execute_result"
    }
   ],
   "source": [
    "# pourcentage of missing values for each column\n",
    "df.isna().sum()/df.shape[0]*100"
   ]
  },
  {
   "cell_type": "markdown",
   "metadata": {},
   "source": [
    "### <font color='MediumBlue'>1 - <ins> Analysing numerical variables</ins>: <font color='violet'></font>"
   ]
  },
  {
   "cell_type": "markdown",
   "metadata": {},
   "source": [
    "#### <font color='CornflowerBlue'>a) Measuring Central Tendencies: <font color='violet'></font> "
   ]
  },
  {
   "cell_type": "markdown",
   "metadata": {},
   "source": [
    "#### i) <font color='ForestGreen'>Mean</font>"
   ]
  },
  {
   "cell_type": "code",
   "execution_count": 33,
   "metadata": {},
   "outputs": [
    {
     "data": {
      "text/plain": [
       "original_order    3401.15\n",
       "year              1934.12\n",
       "dtype: float64"
      ]
     },
     "execution_count": 33,
     "metadata": {},
     "output_type": "execute_result"
    }
   ],
   "source": [
    "df[num_var].mean().round(2)"
   ]
  },
  {
   "cell_type": "markdown",
   "metadata": {},
   "source": [
    "\n"
   ]
  },
  {
   "cell_type": "markdown",
   "metadata": {},
   "source": [
    "#### ii)  <font color='ForestGreen'>Median</font>"
   ]
  },
  {
   "cell_type": "code",
   "execution_count": 34,
   "metadata": {},
   "outputs": [
    {
     "data": {
      "text/plain": [
       "original_order    3401.0\n",
       "year              1985.0\n",
       "dtype: float64"
      ]
     },
     "execution_count": 34,
     "metadata": {},
     "output_type": "execute_result"
    }
   ],
   "source": [
    "df[num_var].median()"
   ]
  },
  {
   "cell_type": "markdown",
   "metadata": {},
   "source": []
  },
  {
   "cell_type": "markdown",
   "metadata": {},
   "source": [
    "#### iii)  <font color='ForestGreen'>Mode</font>"
   ]
  },
  {
   "cell_type": "code",
   "execution_count": 35,
   "metadata": {},
   "outputs": [
    {
     "data": {
      "text/html": [
       "<div>\n",
       "<style scoped>\n",
       "    .dataframe tbody tr th:only-of-type {\n",
       "        vertical-align: middle;\n",
       "    }\n",
       "\n",
       "    .dataframe tbody tr th {\n",
       "        vertical-align: top;\n",
       "    }\n",
       "\n",
       "    .dataframe thead th {\n",
       "        text-align: right;\n",
       "    }\n",
       "</style>\n",
       "<table border=\"1\" class=\"dataframe\">\n",
       "  <thead>\n",
       "    <tr style=\"text-align: right;\">\n",
       "      <th></th>\n",
       "      <th>date</th>\n",
       "      <th>time</th>\n",
       "      <th>original_order</th>\n",
       "      <th>age</th>\n",
       "      <th>year</th>\n",
       "    </tr>\n",
       "  </thead>\n",
       "  <tbody>\n",
       "    <tr>\n",
       "      <th>0</th>\n",
       "      <td>1957</td>\n",
       "      <td>Afternoon</td>\n",
       "      <td>569.0</td>\n",
       "      <td>16</td>\n",
       "      <td>2015.0</td>\n",
       "    </tr>\n",
       "    <tr>\n",
       "      <th>1</th>\n",
       "      <td>NaN</td>\n",
       "      <td>NaN</td>\n",
       "      <td>6369.0</td>\n",
       "      <td>19</td>\n",
       "      <td>NaN</td>\n",
       "    </tr>\n",
       "  </tbody>\n",
       "</table>\n",
       "</div>"
      ],
      "text/plain": [
       "   date       time  original_order age    year\n",
       "0  1957  Afternoon           569.0  16  2015.0\n",
       "1   NaN        NaN          6369.0  19     NaN"
      ]
     },
     "execution_count": 35,
     "metadata": {},
     "output_type": "execute_result"
    }
   ],
   "source": [
    "df[num_var].mode()"
   ]
  },
  {
   "cell_type": "markdown",
   "metadata": {},
   "source": []
  },
  {
   "cell_type": "markdown",
   "metadata": {},
   "source": [
    "**Findings on central tendencies**\n",
    "\n",
    "Based on our calculations and interpretations of central measures, we can make the following observations:\n",
    "\n",
    " "
   ]
  },
  {
   "cell_type": "markdown",
   "metadata": {},
   "source": [
    "#### <font color='CornflowerBlue'>b) Measuring Dispersion:</font> "
   ]
  },
  {
   "cell_type": "markdown",
   "metadata": {},
   "source": [
    "#### i) <font color='ForestGreen'>Standard Deviation</font>"
   ]
  },
  {
   "cell_type": "code",
   "execution_count": 36,
   "metadata": {
    "scrolled": true
   },
   "outputs": [
    {
     "data": {
      "text/plain": [
       "original_order    1963.08\n",
       "year               273.31\n",
       "dtype: float64"
      ]
     },
     "execution_count": 36,
     "metadata": {},
     "output_type": "execute_result"
    }
   ],
   "source": [
    "df[num_var].std().round(2)"
   ]
  },
  {
   "cell_type": "markdown",
   "metadata": {},
   "source": [
    "* **xxxx**: The Standard Deviation blablabla\n",
    "\n"
   ]
  },
  {
   "cell_type": "markdown",
   "metadata": {},
   "source": [
    "#### ii) <font color='ForestGreen'>Range</font>"
   ]
  },
  {
   "cell_type": "code",
   "execution_count": 37,
   "metadata": {},
   "outputs": [
    {
     "data": {
      "text/plain": [
       "original_order    6800.0\n",
       "year              2023.0\n",
       "dtype: float64"
      ]
     },
     "execution_count": 37,
     "metadata": {},
     "output_type": "execute_result"
    }
   ],
   "source": [
    "df[num_var].max() - df[num_var].min()"
   ]
  },
  {
   "cell_type": "markdown",
   "metadata": {},
   "source": [
    "#### <font color='CornflowerBlue'>c)  Summarizing Statistics:</font> "
   ]
  },
  {
   "cell_type": "markdown",
   "metadata": {},
   "source": [
    "#### <font color='ForestGreen'> i) Statistics Summary: count, mean, standard deviation, min, quartiles, maximum</font>"
   ]
  },
  {
   "cell_type": "code",
   "execution_count": 38,
   "metadata": {},
   "outputs": [
    {
     "data": {
      "text/html": [
       "<div>\n",
       "<style scoped>\n",
       "    .dataframe tbody tr th:only-of-type {\n",
       "        vertical-align: middle;\n",
       "    }\n",
       "\n",
       "    .dataframe tbody tr th {\n",
       "        vertical-align: top;\n",
       "    }\n",
       "\n",
       "    .dataframe thead th {\n",
       "        text-align: right;\n",
       "    }\n",
       "</style>\n",
       "<table border=\"1\" class=\"dataframe\">\n",
       "  <thead>\n",
       "    <tr style=\"text-align: right;\">\n",
       "      <th></th>\n",
       "      <th>original_order</th>\n",
       "      <th>year</th>\n",
       "    </tr>\n",
       "  </thead>\n",
       "  <tbody>\n",
       "    <tr>\n",
       "      <th>count</th>\n",
       "      <td>6799.00</td>\n",
       "      <td>6920.00</td>\n",
       "    </tr>\n",
       "    <tr>\n",
       "      <th>mean</th>\n",
       "      <td>3401.15</td>\n",
       "      <td>1934.12</td>\n",
       "    </tr>\n",
       "    <tr>\n",
       "      <th>std</th>\n",
       "      <td>1963.08</td>\n",
       "      <td>273.31</td>\n",
       "    </tr>\n",
       "    <tr>\n",
       "      <th>min</th>\n",
       "      <td>2.00</td>\n",
       "      <td>0.00</td>\n",
       "    </tr>\n",
       "    <tr>\n",
       "      <th>25%</th>\n",
       "      <td>1701.50</td>\n",
       "      <td>1947.00</td>\n",
       "    </tr>\n",
       "    <tr>\n",
       "      <th>50%</th>\n",
       "      <td>3401.00</td>\n",
       "      <td>1985.00</td>\n",
       "    </tr>\n",
       "    <tr>\n",
       "      <th>75%</th>\n",
       "      <td>5100.50</td>\n",
       "      <td>2009.00</td>\n",
       "    </tr>\n",
       "    <tr>\n",
       "      <th>max</th>\n",
       "      <td>6802.00</td>\n",
       "      <td>2023.00</td>\n",
       "    </tr>\n",
       "  </tbody>\n",
       "</table>\n",
       "</div>"
      ],
      "text/plain": [
       "       original_order     year\n",
       "count         6799.00  6920.00\n",
       "mean          3401.15  1934.12\n",
       "std           1963.08   273.31\n",
       "min              2.00     0.00\n",
       "25%           1701.50  1947.00\n",
       "50%           3401.00  1985.00\n",
       "75%           5100.50  2009.00\n",
       "max           6802.00  2023.00"
      ]
     },
     "execution_count": 38,
     "metadata": {},
     "output_type": "execute_result"
    }
   ],
   "source": [
    "df[num_var].describe().round(2)"
   ]
  },
  {
   "cell_type": "markdown",
   "metadata": {},
   "source": [
    "### <font color='MediumBlue'>2 - <ins> Analysing categorical variables</ins>: <font color='violet'></font>"
   ]
  },
  {
   "cell_type": "markdown",
   "metadata": {},
   "source": [
    "#### <font color='CornflowerBlue'>a) Measuring Frequency: </font>"
   ]
  },
  {
   "cell_type": "markdown",
   "metadata": {},
   "source": [
    "#### <font color='ForestGreen'> i) frequency in counts</font>"
   ]
  },
  {
   "cell_type": "code",
   "execution_count": 39,
   "metadata": {},
   "outputs": [
    {
     "name": "stdout",
     "output_type": "stream",
     "text": [
      "Unprovoked      5091\n",
      "Provoked         633\n",
      "Unconfirmed      576\n",
      "Watercraft       355\n",
      "Sea Disaster     242\n",
      "Boat               7\n",
      "Name: type, dtype: int64 \n",
      "\n",
      "USA                           2535\n",
      "AUSTRALIA                     1474\n",
      "SOUTH AFRICA                   596\n",
      "NEW ZEALAND                    143\n",
      "PAPUA NEW GUINEA               136\n",
      "                              ... \n",
      "GUATEMALA                        1\n",
      "British Overseas Territory       1\n",
      "TUVALU                           1\n",
      "BRITISH ISLES                    1\n",
      "ROATAN                           1\n",
      "Name: country, Length: 224, dtype: int64 \n",
      "\n",
      "Florida                           1178\n",
      "New South Wales                    520\n",
      "Queensland                         346\n",
      "Hawaii                             338\n",
      "California                         323\n",
      "                                  ... \n",
      "300 miles east of Luzon              1\n",
      "180 miles southeast of Okinawa       1\n",
      "Salerno                              1\n",
      "Norfolk                              1\n",
      "Island of Kos                        1\n",
      "Name: state, Length: 896, dtype: int64 \n",
      "\n",
      "New Smyrna Beach, Volusia County                   191\n",
      "Daytona Beach, Volusia County                       31\n",
      "Ponce Inlet, Volusia County                         28\n",
      "Myrtle Beach, Horry County                          22\n",
      "Melbourne Beach, Brevard County                     20\n",
      "                                                  ... \n",
      "20 k off The Spit, off the Gold Coast                1\n",
      "Sunday Beach, Matagorda Island, Calhoun  County      1\n",
      "Kinikini, Mana, Kaua'i                               1\n",
      "Kingston Plantation, Myrtle Beach, Horry County      1\n",
      "Manasota Beach, Sarasota County                      1\n",
      "Name: location, Length: 4495, dtype: int64 \n",
      "\n",
      "surfing                                                                                                                                          1300\n",
      "fishing                                                                                                                                          1271\n",
      "swimming                                                                                                                                         1243\n",
      "diving                                                                                                                                            561\n",
      "bathing                                                                                                                                           192\n",
      "                                                                                                                                                 ... \n",
      "trailing the field in a surf race                                                                                                                   1\n",
      "standing, washing rear wheels of his ambulance in ankle-deep water                                                                                  1\n",
      "attempting to lasso a shark                                                                                                                         1\n",
      "rolled off raft                                                                                                                                     1\n",
      "japanese pow ship arisan maru with 1800 american prisoners of war on board bound for slave labor camps was torpedoed by an american submarine       1\n",
      "Name: activity, Length: 799, dtype: int64 \n",
      "\n",
      "male               675\n",
      "female             134\n",
      "boy                 23\n",
      "2 males             17\n",
      "boat                14\n",
      "                  ... \n",
      "Robert Murphy        1\n",
      "Greg Filtzer         1\n",
      "J. Gillies           1\n",
      "Darren Harrity       1\n",
      "John Fasio, Jr       1\n",
      "Name: name, Length: 5669, dtype: int64 \n",
      "\n",
      "M          5565\n",
      "F           773\n",
      "unknown     585\n",
      "Name: sex, dtype: int64 \n",
      "\n",
      "FATAL                                                    856\n",
      "Foot bitten                                              100\n",
      "Survived                                                  97\n",
      "No injury                                                 85\n",
      "Leg bitten                                                79\n",
      "                                                        ... \n",
      "No injury, shark rammed kayak repeatedly                   1\n",
      "Puncture wounds & 3-inch laceration to right calf          1\n",
      "3 toes of right foot were severed                          1\n",
      "Multiple injuries from boated shark PROVOKED INCIDENT      1\n",
      "Lacerations to lower leg & foot                            1\n",
      "Name: injury, Length: 4071, dtype: int64 \n",
      "\n",
      "White shark                                           192\n",
      "Shark involvement prior to death was not confirmed    105\n",
      "Invalid                                               102\n",
      "Shark involvement not confirmed                        92\n",
      "Tiger shark                                            87\n",
      "                                                     ... \n",
      "Blue pointer, 16'                                       1\n",
      "White shark, 7' to 8'                                   1\n",
      "3 m to 4 m [10' to 13'] shark                           1\n",
      "500-lb shark                                            1\n",
      "6' to 8' bull shark                                     1\n",
      "Name: species, Length: 1671, dtype: int64 \n",
      "\n",
      "K. McMurray, TrackingSharks.com                      131\n",
      "C. Moore, GSAF                                       105\n",
      "C. Creswell, GSAF                                    100\n",
      "S. Petersohn, GSAF                                    82\n",
      "B. Myatt, GSAF                                        59\n",
      "                                                    ... \n",
      "Lt. Col. R.S. Hunt of the Royal Army Medical Corp      1\n",
      "M. Michaelson, et al,GSA                               1\n",
      "The Beat of Hawaii, 10/2/2023                          1\n",
      "Timaru Herald, 6/8/1886                                1\n",
      "Brisbane Courier, 12/30/1919                           1\n",
      "Name: source, Length: 5284, dtype: int64 \n",
      "\n"
     ]
    }
   ],
   "source": [
    "for k in cat_var:\n",
    "    print(f\"{df[k].value_counts()} \\n\")    "
   ]
  },
  {
   "cell_type": "markdown",
   "metadata": {},
   "source": [
    "#### <font color='ForestGreen'> ii) frequency in percentages</font>"
   ]
  },
  {
   "cell_type": "code",
   "execution_count": 40,
   "metadata": {
    "scrolled": false
   },
   "outputs": [
    {
     "name": "stdout",
     "output_type": "stream",
     "text": [
      "Unprovoked      73.537484\n",
      "Provoked         9.143435\n",
      "Unconfirmed      8.320092\n",
      "Watercraft       5.127835\n",
      "Sea Disaster     3.495594\n",
      "Boat             0.101112\n",
      "Name: type, dtype: float64 \n",
      " \n",
      "USA                           36.617074\n",
      "AUSTRALIA                     21.291348\n",
      "SOUTH AFRICA                   8.608985\n",
      "NEW ZEALAND                    2.065579\n",
      "PAPUA NEW GUINEA               1.964466\n",
      "                                ...    \n",
      "GUATEMALA                      0.014445\n",
      "British Overseas Territory     0.014445\n",
      "TUVALU                         0.014445\n",
      "BRITISH ISLES                  0.014445\n",
      "ROATAN                         0.014445\n",
      "Name: country, Length: 224, dtype: float64 \n",
      " \n",
      "Florida                           17.015745\n",
      "New South Wales                    7.511195\n",
      "Queensland                         4.997833\n",
      "Hawaii                             4.882276\n",
      "California                         4.665607\n",
      "                                    ...    \n",
      "300 miles east of Luzon            0.014445\n",
      "180 miles southeast of Okinawa     0.014445\n",
      "Salerno                            0.014445\n",
      "Norfolk                            0.014445\n",
      "Island of Kos                      0.014445\n",
      "Name: state, Length: 896, dtype: float64 \n",
      " \n",
      "New Smyrna Beach, Volusia County                   2.758920\n",
      "Daytona Beach, Volusia County                      0.447783\n",
      "Ponce Inlet, Volusia County                        0.404449\n",
      "Myrtle Beach, Horry County                         0.317781\n",
      "Melbourne Beach, Brevard County                    0.288892\n",
      "                                                     ...   \n",
      "20 k off The Spit, off the Gold Coast              0.014445\n",
      "Sunday Beach, Matagorda Island, Calhoun  County    0.014445\n",
      "Kinikini, Mana, Kaua'i                             0.014445\n",
      "Kingston Plantation, Myrtle Beach, Horry County    0.014445\n",
      "Manasota Beach, Sarasota County                    0.014445\n",
      "Name: location, Length: 4495, dtype: float64 \n",
      " \n",
      "surfing                                                                                                                                          18.777986\n",
      "fishing                                                                                                                                          18.359093\n",
      "swimming                                                                                                                                         17.954644\n",
      "diving                                                                                                                                            8.103423\n",
      "bathing                                                                                                                                           2.773364\n",
      "                                                                                                                                                   ...    \n",
      "trailing the field in a surf race                                                                                                                 0.014445\n",
      "standing, washing rear wheels of his ambulance in ankle-deep water                                                                                0.014445\n",
      "attempting to lasso a shark                                                                                                                       0.014445\n",
      "rolled off raft                                                                                                                                   0.014445\n",
      "japanese pow ship arisan maru with 1800 american prisoners of war on board bound for slave labor camps was torpedoed by an american submarine     0.014445\n",
      "Name: activity, Length: 799, dtype: float64 \n",
      " \n",
      "male               9.750108\n",
      "female             1.935577\n",
      "boy                0.332226\n",
      "2 males            0.245558\n",
      "boat               0.202224\n",
      "                     ...   \n",
      "Robert Murphy      0.014445\n",
      "Greg Filtzer       0.014445\n",
      "J. Gillies         0.014445\n",
      "Darren Harrity     0.014445\n",
      "John Fasio, Jr     0.014445\n",
      "Name: name, Length: 5669, dtype: float64 \n",
      " \n",
      "M          80.384226\n",
      "F          11.165680\n",
      "unknown     8.450094\n",
      "Name: sex, dtype: float64 \n",
      " \n",
      "FATAL                                                    12.364582\n",
      "Foot bitten                                               1.444460\n",
      "Survived                                                  1.401127\n",
      "No injury                                                 1.227791\n",
      "Leg bitten                                                1.141124\n",
      "                                                           ...    \n",
      "No injury, shark rammed kayak repeatedly                  0.014445\n",
      "Puncture wounds & 3-inch laceration to right calf         0.014445\n",
      "3 toes of right foot were severed                         0.014445\n",
      "Multiple injuries from boated shark PROVOKED INCIDENT     0.014445\n",
      "Lacerations to lower leg & foot                           0.014445\n",
      "Name: injury, Length: 4071, dtype: float64 \n",
      " \n",
      "White shark                                           2.773364\n",
      "Shark involvement prior to death was not confirmed    1.516684\n",
      "Invalid                                               1.473350\n",
      "Shark involvement not confirmed                       1.328904\n",
      "Tiger shark                                           1.256681\n",
      "                                                        ...   \n",
      "Blue pointer, 16'                                     0.014445\n",
      "White shark, 7' to 8'                                 0.014445\n",
      "3 m to 4 m [10' to 13'] shark                         0.014445\n",
      "500-lb shark                                          0.014445\n",
      "6' to 8' bull shark                                   0.014445\n",
      "Name: species, Length: 1671, dtype: float64 \n",
      " \n",
      "K. McMurray, TrackingSharks.com                      1.892243\n",
      "C. Moore, GSAF                                       1.516684\n",
      "C. Creswell, GSAF                                    1.444460\n",
      "S. Petersohn, GSAF                                   1.184458\n",
      "B. Myatt, GSAF                                       0.852232\n",
      "                                                       ...   \n",
      "Lt. Col. R.S. Hunt of the Royal Army Medical Corp    0.014445\n",
      "M. Michaelson, et al,GSA                             0.014445\n",
      "The Beat of Hawaii, 10/2/2023                        0.014445\n",
      "Timaru Herald, 6/8/1886                              0.014445\n",
      "Brisbane Courier, 12/30/1919                         0.014445\n",
      "Name: source, Length: 5284, dtype: float64 \n",
      " \n"
     ]
    }
   ],
   "source": [
    "for k in cat_var:\n",
    "    percentage = (df[k].value_counts() / df.shape[0]) * 100\n",
    "    print(f\"{percentage} \\n \")"
   ]
  },
  {
   "cell_type": "code",
   "execution_count": 41,
   "metadata": {},
   "outputs": [
    {
     "data": {
      "image/png": "[encoded data removed]",
      "text/plain": [
       "<Figure size 720x720 with 1 Axes>"
      ]
     },
     "metadata": {},
     "output_type": "display_data"
    }
   ],
   "source": [
    "import matplotlib.pyplot as plt\n",
    "plt.figure(figsize=(10, 10))\n",
    "plt.pie(df.injury.value_counts().head(10), labels = df.injury.value_counts().head(10).index)\n",
    "plt.title('Top 10 Injuries')\n",
    "plt.show()"
   ]
  },
  {
   "cell_type": "code",
   "execution_count": 42,
   "metadata": {},
   "outputs": [
    {
     "data": {
      "image/png": "[encoded data removed]",
      "text/plain": [
       "<Figure size 432x432 with 1 Axes>"
      ]
     },
     "metadata": {},
     "output_type": "display_data"
    }
   ],
   "source": [
    "import matplotlib.pyplot as plt\n",
    "df['injury'] = df['injury'].str.lower().str.strip()\n",
    "all_injuries = df['injury'].value_counts()\n",
    "plt.figure(figsize=(6, 6))\n",
    "plt.pie(df.injury.value_counts().head(10), labels = df.injury.value_counts().head(10).index)\n",
    "# plt.title('Top 10 Injuries')\n",
    "plt.show()"
   ]
  },
  {
   "cell_type": "code",
   "execution_count": 43,
   "metadata": {},
   "outputs": [
    {
     "data": {
      "image/png": "[encoded data removed]",
      "text/plain": [
       "<Figure size 720x720 with 1 Axes>"
      ]
     },
     "metadata": {},
     "output_type": "display_data"
    }
   ],
   "source": [
    "import matplotlib.pyplot as plt\n",
    "plt.figure(figsize=(10, 10))\n",
    "plt.pie(df_cleaned.activity.value_counts().head(10), labels = df_cleaned.activity.value_counts().head(10).index, autopct='%1.0f%%')\n",
    "plt.title('Top Activities Related to Shark Attacks')\n",
    "plt.show()"
   ]
  },
  {
   "cell_type": "code",
   "execution_count": 44,
   "metadata": {},
   "outputs": [
    {
     "name": "stdout",
     "output_type": "stream",
     "text": [
      "Volusia Country: 352 \n",
      "Brevard County: 100\n"
     ]
    }
   ],
   "source": [
    "#Top 2 County with most attacks:\n",
    "##########################\n",
    "k = 0\n",
    "l = 0\n",
    "for i in list(df.location):\n",
    "    if \"Volusia County\" in str(i):\n",
    "        k += 1\n",
    "    elif \"Brevard County\" in str(i):\n",
    "        l += 1\n",
    "print(f\"Volusia Country: {k} \\nBrevard County: {l}\")"
   ]
  },
  {
   "cell_type": "code",
   "execution_count": 45,
   "metadata": {},
   "outputs": [
    {
     "data": {
      "text/plain": [
       "<matplotlib.axes._subplots.AxesSubplot at 0x7f91c3438710>"
      ]
     },
     "execution_count": 45,
     "metadata": {},
     "output_type": "execute_result"
    },
    {
     "data": {
      "image/png": "[encoded data removed]",
      "text/plain": [
       "<Figure size 1728x720 with 3 Axes>"
      ]
     },
     "metadata": {
      "needs_background": "light"
     },
     "output_type": "display_data"
    }
   ],
   "source": [
    "# Visualize the number of missing. values as a bar chart\n",
    "msno.bar(df_cleaned) "
   ]
  },
  {
   "cell_type": "code",
   "execution_count": 46,
   "metadata": {},
   "outputs": [
    {
     "data": {
      "text/plain": [
       "date              5983\n",
       "year               258\n",
       "type                 6\n",
       "country            224\n",
       "state              896\n",
       "location          4495\n",
       "activity           799\n",
       "name              5669\n",
       "sex                  3\n",
       "age                243\n",
       "injury            3981\n",
       "unnamed:_11         12\n",
       "time               409\n",
       "species           1671\n",
       "source            5284\n",
       "pdf               6789\n",
       "href_formula      6785\n",
       "href              6776\n",
       "case_number       6777\n",
       "case_number.1     6775\n",
       "original_order    6797\n",
       "dtype: int64"
      ]
     },
     "execution_count": 46,
     "metadata": {},
     "output_type": "execute_result"
    }
   ],
   "source": [
    "df_cleaned.nunique()"
   ]
  },
  {
   "cell_type": "code",
   "execution_count": 48,
   "metadata": {},
   "outputs": [
    {
     "data": {
      "text/plain": [
       "(6923, 21)"
      ]
     },
     "execution_count": 48,
     "metadata": {},
     "output_type": "execute_result"
    }
   ],
   "source": [
    "df_cleaned.shape"
   ]
  },
  {
   "cell_type": "code",
   "execution_count": 49,
   "metadata": {},
   "outputs": [
    {
     "data": {
      "image/png": "[encoded data removed]",
      "text/plain": [
       "<Figure size 720x720 with 1 Axes>"
      ]
     },
     "metadata": {},
     "output_type": "display_data"
    }
   ],
   "source": [
    "import matplotlib.pyplot as plt\n",
    "plt.figure(figsize=(10, 10))\n",
    "plt.pie(df_cleaned.sex.value_counts().head(10), labels = df_cleaned.sex.value_counts().head(10).index, autopct='%1.0f%%')\n",
    "plt.title('Gender')\n",
    "plt.show()"
   ]
  },
  {
   "cell_type": "code",
   "execution_count": null,
   "metadata": {},
   "outputs": [],
   "source": []
  }
 ],
 "metadata": {
  "kernelspec": {
   "display_name": "Python 3",
   "language": "python",
   "name": "python3"
  },
  "language_info": {
   "codemirror_mode": {
    "name": "ipython",
    "version": 3
   },
   "file_extension": ".py",
   "mimetype": "text/x-python",
   "name": "python",
   "nbconvert_exporter": "python",
   "pygments_lexer": "ipython3",
   "version": "3.7.6"
  }
 },
 "nbformat": 4,
 "nbformat_minor": 5
}
